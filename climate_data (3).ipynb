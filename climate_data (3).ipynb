{
  "nbformat": 4,
  "nbformat_minor": 0,
  "metadata": {
    "colab": {
      "name": "climate data",
      "provenance": [],
      "toc_visible": true
    },
    "kernelspec": {
      "display_name": "Python 3",
      "name": "python3"
    }
  },
  "cells": [
    {
      "cell_type": "markdown",
      "metadata": {
        "id": "GocbHRYzTf99"
      },
      "source": [
        "The following notebook is based on the working Geospatial Data.\r\n",
        "\r\n",
        "The dataset can be downloaded from [here](https://cds.climate.copernicus.eu/cdsapp#!/dataset/reanalysis-era5-land?tab=overview)."
      ]
    },
    {
      "cell_type": "markdown",
      "metadata": {
        "id": "lsLKT9PDUcpf"
      },
      "source": [
        "The [CDS API](https://cds.climate.copernicus.eu/api-how-to) allows for programmatic access to this data store and is used to download the following data\r\n",
        "\r\n",
        "\r\n",
        "\r\n",
        "*   Temperature of air at 2m above the surface - (2m Temperature - 2019 - December - First 7 days - 12:00 - Whole Available Region - NetCDF)\r\n",
        "\r\n",
        "*   Total precipitation - (Total Precipitation - 2019 - December - First 7 days -12:00 - Whole Available Region - NetCDF)\r\n",
        "\r\n",
        "\r\n",
        "*   Volumetric soil water layer 1 - (Volumetric soil water layer 1 - 2019 - December - First 7 days - 12:00 - Whole Available Region - NetCDF)\r\n",
        "\r\n",
        "\r\n",
        "\r\n",
        "\r\n"
      ]
    },
    {
      "cell_type": "markdown",
      "metadata": {
        "id": "YcrmA8dFafSz"
      },
      "source": [
        "## Creating '.cdsapirc' "
      ]
    },
    {
      "cell_type": "code",
      "metadata": {
        "colab": {
          "base_uri": "https://localhost:8080/"
        },
        "id": "54whwymq7dKb",
        "outputId": "099711be-377d-469a-bf74-fa203eb21fc4"
      },
      "source": [
        "url = 'url: https://cds.climate.copernicus.eu/api/v2'\n",
        "key = 'key: 68734:ceaf88e4-e900-4691-91a0-a0fb14865ced'\n",
        "\n",
        "with open('/root/.cdsapirc', 'w') as f:\n",
        "    f.write('\\n'.join([url, key]))\n",
        "\n",
        "with open('/root/.cdsapirc') as f:\n",
        "    print(f.read())"
      ],
      "execution_count": null,
      "outputs": [
        {
          "output_type": "stream",
          "text": [
            "url: https://cds.climate.copernicus.eu/api/v2\n",
            "key: 68734:ceaf88e4-e900-4691-91a0-a0fb14865ced\n"
          ],
          "name": "stdout"
        }
      ]
    },
    {
      "cell_type": "code",
      "metadata": {
        "colab": {
          "base_uri": "https://localhost:8080/"
        },
        "id": "6GU4yiUJ53wD",
        "outputId": "1c41c212-0dcc-44a1-da0f-bd2f7af64b05"
      },
      "source": [
        "!pip install cdsapi"
      ],
      "execution_count": null,
      "outputs": [
        {
          "output_type": "stream",
          "text": [
            "Collecting cdsapi\n",
            "  Downloading https://files.pythonhosted.org/packages/d6/9e/952b99737b2dfc56229306abdd8f353b9114480db29e379ad2a621b12e6b/cdsapi-0.4.0.tar.gz\n",
            "Requirement already satisfied: requests>=2.5.0 in /usr/local/lib/python3.6/dist-packages (from cdsapi) (2.23.0)\n",
            "Requirement already satisfied: tqdm in /usr/local/lib/python3.6/dist-packages (from cdsapi) (4.41.1)\n",
            "Requirement already satisfied: chardet<4,>=3.0.2 in /usr/local/lib/python3.6/dist-packages (from requests>=2.5.0->cdsapi) (3.0.4)\n",
            "Requirement already satisfied: urllib3!=1.25.0,!=1.25.1,<1.26,>=1.21.1 in /usr/local/lib/python3.6/dist-packages (from requests>=2.5.0->cdsapi) (1.24.3)\n",
            "Requirement already satisfied: idna<3,>=2.5 in /usr/local/lib/python3.6/dist-packages (from requests>=2.5.0->cdsapi) (2.10)\n",
            "Requirement already satisfied: certifi>=2017.4.17 in /usr/local/lib/python3.6/dist-packages (from requests>=2.5.0->cdsapi) (2020.11.8)\n",
            "Building wheels for collected packages: cdsapi\n",
            "  Building wheel for cdsapi (setup.py) ... \u001b[?25l\u001b[?25hdone\n",
            "  Created wheel for cdsapi: filename=cdsapi-0.4.0-py2.py3-none-any.whl size=11693 sha256=d226930f8e61676d816a44e65261f43904b337802a7fea8e2f5f4d94331be919\n",
            "  Stored in directory: /root/.cache/pip/wheels/40/ee/c6/d596a9661e9408440cb33adc7881461cb1d69dbb455f808f78\n",
            "Successfully built cdsapi\n",
            "Installing collected packages: cdsapi\n",
            "Successfully installed cdsapi-0.4.0\n"
          ],
          "name": "stdout"
        }
      ]
    },
    {
      "cell_type": "markdown",
      "metadata": {
        "id": "wGUWUOiPakFy"
      },
      "source": [
        "## Importing Libraries"
      ]
    },
    {
      "cell_type": "code",
      "metadata": {
        "id": "hkFksyJk57yQ"
      },
      "source": [
        "import numpy as np\n",
        "import pandas as pd\n",
        "import xarray as xr\n",
        "import matplotlib.pyplot as plt\n",
        "import cdsapi"
      ],
      "execution_count": null,
      "outputs": []
    },
    {
      "cell_type": "markdown",
      "metadata": {
        "id": "_oGvi9vAbKz1"
      },
      "source": [
        "# Downloading Dataset through cdsapi"
      ]
    },
    {
      "cell_type": "markdown",
      "metadata": {
        "id": "sMNrPjAoarsl"
      },
      "source": [
        "## Temperature of air at 2m above the surface"
      ]
    },
    {
      "cell_type": "code",
      "metadata": {
        "colab": {
          "base_uri": "https://localhost:8080/"
        },
        "id": "PXmq3Xei6m-7",
        "outputId": "6c74abce-7e7a-4e8c-da2d-72708b6515bb"
      },
      "source": [
        "c = cdsapi.Client()\n",
        "\n",
        "c.retrieve(\n",
        "    'reanalysis-era5-land',\n",
        "    {\n",
        "        'format': 'netcdf',\n",
        "        'variable': '2m_temperature',\n",
        "        'year': '2019',\n",
        "        'month': '12',\n",
        "        'day': [\n",
        "            '01', '02', '03',\n",
        "            '04', '05', '06',\n",
        "            '07',\n",
        "        ],\n",
        "        'time': '12:00',\n",
        "    },\n",
        "    'temp.nc')"
      ],
      "execution_count": null,
      "outputs": [
        {
          "output_type": "stream",
          "text": [
            "2020-12-05 13:04:27,014 INFO Welcome to the CDS\n",
            "2020-12-05 13:04:27,015 INFO Sending request to https://cds.climate.copernicus.eu/api/v2/resources/reanalysis-era5-land\n",
            "2020-12-05 13:04:27,173 INFO Request is completed\n",
            "2020-12-05 13:04:27,174 INFO Downloading http://136.156.132.153/cache-compute-0002/cache/data1/adaptor.mars.internal-1607148499.5357397-27875-7-129586ef-9939-48f7-8cb7-9d405f99cca4.nc to temp.nc (86.6M)\n",
            "2020-12-05 13:04:28,480 INFO Download rate 66.4M/s\n"
          ],
          "name": "stderr"
        },
        {
          "output_type": "execute_result",
          "data": {
            "text/plain": [
              "Result(content_length=90793096,content_type=application/x-netcdf,location=http://136.156.132.153/cache-compute-0002/cache/data1/adaptor.mars.internal-1607148499.5357397-27875-7-129586ef-9939-48f7-8cb7-9d405f99cca4.nc)"
            ]
          },
          "metadata": {
            "tags": []
          },
          "execution_count": 6
        }
      ]
    },
    {
      "cell_type": "markdown",
      "metadata": {
        "id": "tvFusnuiawmC"
      },
      "source": [
        "## Total precipitation"
      ]
    },
    {
      "cell_type": "code",
      "metadata": {
        "colab": {
          "base_uri": "https://localhost:8080/"
        },
        "id": "Tvok-AKpa2CD",
        "outputId": "3a2cdbb9-06d5-494a-99f1-457c9ba4707c"
      },
      "source": [
        "c1 = cdsapi.Client()\n",
        "\n",
        "c1.retrieve(\n",
        "    'reanalysis-era5-land',\n",
        "    {\n",
        "        'format': 'netcdf',\n",
        "        'variable': 'total_precipitation',\n",
        "        'year': '2019',\n",
        "        'month': '12',\n",
        "        'day': [\n",
        "            '01', '02', '03',\n",
        "            '04', '05', '06',\n",
        "            '07', \n",
        "        ],\n",
        "        'time': '12:00',\n",
        "    },\n",
        "    'precipitation1.nc')"
      ],
      "execution_count": null,
      "outputs": [
        {
          "output_type": "stream",
          "text": [
            "2020-12-05 13:04:38,785 INFO Welcome to the CDS\n",
            "2020-12-05 13:04:38,785 INFO Sending request to https://cds.climate.copernicus.eu/api/v2/resources/reanalysis-era5-land\n",
            "2020-12-05 13:04:40,423 INFO Request is completed\n",
            "2020-12-05 13:04:40,424 INFO Downloading http://136.156.132.210/cache-compute-0005/cache/data3/adaptor.mars.internal-1606910688.2140152-15575-5-df0a2539-f0cb-4ed2-8e0e-ca23d92bd7a2.nc to precipitation1.nc (86.6M)\n",
            "2020-12-05 13:04:42,056 INFO Download rate 53.1M/s\n"
          ],
          "name": "stderr"
        },
        {
          "output_type": "execute_result",
          "data": {
            "text/plain": [
              "Result(content_length=90793088,content_type=application/x-netcdf,location=http://136.156.132.210/cache-compute-0005/cache/data3/adaptor.mars.internal-1606910688.2140152-15575-5-df0a2539-f0cb-4ed2-8e0e-ca23d92bd7a2.nc)"
            ]
          },
          "metadata": {
            "tags": []
          },
          "execution_count": 7
        }
      ]
    },
    {
      "cell_type": "markdown",
      "metadata": {
        "id": "W0C1oE-3a_4r"
      },
      "source": [
        "## Volumetric soil water layer 1"
      ]
    },
    {
      "cell_type": "code",
      "metadata": {
        "colab": {
          "base_uri": "https://localhost:8080/"
        },
        "id": "E_qrtNotbDXq",
        "outputId": "3cf759e3-0f09-455e-c2fb-5c50829a2e20"
      },
      "source": [
        "c2 = cdsapi.Client()\n",
        "\n",
        "c2.retrieve(\n",
        "    'reanalysis-era5-land',\n",
        "    {\n",
        "        'format': 'netcdf',\n",
        "        'variable': 'volumetric_soil_water_layer_1',\n",
        "        'year': '2019',\n",
        "        'month': '12',\n",
        "        'day': [\n",
        "            '01', '02', '03',\n",
        "            '04', '05', '06',\n",
        "            '07',\n",
        "        ],\n",
        "        'time': '12:00',\n",
        "    },\n",
        "    'volume_soil.nc')"
      ],
      "execution_count": null,
      "outputs": [
        {
          "output_type": "stream",
          "text": [
            "2020-12-05 13:04:46,110 INFO Welcome to the CDS\n",
            "2020-12-05 13:04:46,111 INFO Sending request to https://cds.climate.copernicus.eu/api/v2/resources/reanalysis-era5-land\n",
            "2020-12-05 13:04:46,174 INFO Request is completed\n",
            "2020-12-05 13:04:46,175 INFO Downloading http://136.156.132.201/cache-compute-0004/cache/data2/adaptor.mars.internal-1606830539.7203078-10169-1-ecc212be-ed44-4d9a-9c93-2bb986795e8e.nc to volume_soil.nc (86.6M)\n",
            "2020-12-05 13:04:47,453 INFO Download rate 67.9M/s\n"
          ],
          "name": "stderr"
        },
        {
          "output_type": "execute_result",
          "data": {
            "text/plain": [
              "Result(content_length=90793112,content_type=application/x-netcdf,location=http://136.156.132.201/cache-compute-0004/cache/data2/adaptor.mars.internal-1606830539.7203078-10169-1-ecc212be-ed44-4d9a-9c93-2bb986795e8e.nc)"
            ]
          },
          "metadata": {
            "tags": []
          },
          "execution_count": 8
        }
      ]
    },
    {
      "cell_type": "markdown",
      "metadata": {
        "id": "58WLi8zEbVsz"
      },
      "source": [
        "# Opening dataset xarray"
      ]
    },
    {
      "cell_type": "code",
      "metadata": {
        "id": "-8f_W6pB6ALj"
      },
      "source": [
        "ds = xr.open_dataset('temp.nc')"
      ],
      "execution_count": null,
      "outputs": []
    },
    {
      "cell_type": "code",
      "metadata": {
        "id": "CQNNI1chbdHS"
      },
      "source": [
        "ds1 = xr.open_dataset('precipitation1.nc')"
      ],
      "execution_count": null,
      "outputs": []
    },
    {
      "cell_type": "code",
      "metadata": {
        "id": "CwoY2ZJ6bkJk"
      },
      "source": [
        "ds2 = xr.open_dataset('volume_soil.nc')"
      ],
      "execution_count": null,
      "outputs": []
    },
    {
      "cell_type": "markdown",
      "metadata": {
        "id": "9V1-_njAbsw_"
      },
      "source": [
        "# Attributes\n",
        "\n"
      ]
    },
    {
      "cell_type": "markdown",
      "metadata": {
        "id": "yzLZ1HNtixRB"
      },
      "source": [
        "## 1. Temperature of air at 2m above the surface "
      ]
    },
    {
      "cell_type": "code",
      "metadata": {
        "colab": {
          "base_uri": "https://localhost:8080/"
        },
        "id": "7jnDpxCk7_rJ",
        "outputId": "70478238-1a70-4995-e60a-4a52e0f8b986"
      },
      "source": [
        "print(ds)"
      ],
      "execution_count": null,
      "outputs": [
        {
          "output_type": "stream",
          "text": [
            "<xarray.Dataset>\n",
            "Dimensions:    (latitude: 1801, longitude: 3600, time: 7)\n",
            "Coordinates:\n",
            "  * longitude  (longitude) float32 0.0 0.1 0.2 0.3 ... 359.6 359.7 359.8 359.9\n",
            "  * latitude   (latitude) float32 90.0 89.9 89.8 89.7 ... -89.8 -89.9 -90.0\n",
            "  * time       (time) datetime64[ns] 2019-12-01T12:00:00 ... 2019-12-07T12:00:00\n",
            "Data variables:\n",
            "    t2m        (time, latitude, longitude) float32 ...\n",
            "Attributes:\n",
            "    Conventions:  CF-1.6\n",
            "    history:      2020-12-05 06:08:22 GMT by grib_to_netcdf-2.16.0: /opt/ecmw...\n"
          ],
          "name": "stdout"
        }
      ]
    },
    {
      "cell_type": "code",
      "metadata": {
        "colab": {
          "base_uri": "https://localhost:8080/"
        },
        "id": "jv282qjS8UpV",
        "outputId": "b698ad06-30f8-44ec-885f-a0a970a1f194"
      },
      "source": [
        "print(ds['t2m'])"
      ],
      "execution_count": null,
      "outputs": [
        {
          "output_type": "stream",
          "text": [
            "<xarray.DataArray 't2m' (time: 7, latitude: 1801, longitude: 3600)>\n",
            "[45385200 values with dtype=float32]\n",
            "Coordinates:\n",
            "  * longitude  (longitude) float32 0.0 0.1 0.2 0.3 ... 359.6 359.7 359.8 359.9\n",
            "  * latitude   (latitude) float32 90.0 89.9 89.8 89.7 ... -89.8 -89.9 -90.0\n",
            "  * time       (time) datetime64[ns] 2019-12-01T12:00:00 ... 2019-12-07T12:00:00\n",
            "Attributes:\n",
            "    units:      K\n",
            "    long_name:  2 metre temperature\n"
          ],
          "name": "stdout"
        }
      ]
    },
    {
      "cell_type": "markdown",
      "metadata": {
        "id": "49JrhyxKb4pM"
      },
      "source": [
        "## 2. Total precipitation"
      ]
    },
    {
      "cell_type": "code",
      "metadata": {
        "colab": {
          "base_uri": "https://localhost:8080/"
        },
        "id": "qHu4M2dbb9s7",
        "outputId": "a47392df-65d7-444b-cb85-c0e66fb9df0c"
      },
      "source": [
        "print(ds1)"
      ],
      "execution_count": null,
      "outputs": [
        {
          "output_type": "stream",
          "text": [
            "<xarray.Dataset>\n",
            "Dimensions:    (latitude: 1801, longitude: 3600, time: 7)\n",
            "Coordinates:\n",
            "  * longitude  (longitude) float32 0.0 0.1 0.2 0.3 ... 359.6 359.7 359.8 359.9\n",
            "  * latitude   (latitude) float32 90.0 89.9 89.8 89.7 ... -89.8 -89.9 -90.0\n",
            "  * time       (time) datetime64[ns] 2019-12-01T12:00:00 ... 2019-12-07T12:00:00\n",
            "Data variables:\n",
            "    tp         (time, latitude, longitude) float32 ...\n",
            "Attributes:\n",
            "    Conventions:  CF-1.6\n",
            "    history:      2020-12-02 12:04:52 GMT by grib_to_netcdf-2.16.0: /opt/ecmw...\n"
          ],
          "name": "stdout"
        }
      ]
    },
    {
      "cell_type": "code",
      "metadata": {
        "colab": {
          "base_uri": "https://localhost:8080/"
        },
        "id": "OAUTOxuScA3y",
        "outputId": "82947f3d-d0b2-40ce-fafd-fbd7cfa4bd19"
      },
      "source": [
        "print(ds1['tp'])"
      ],
      "execution_count": null,
      "outputs": [
        {
          "output_type": "stream",
          "text": [
            "<xarray.DataArray 'tp' (time: 7, latitude: 1801, longitude: 3600)>\n",
            "[45385200 values with dtype=float32]\n",
            "Coordinates:\n",
            "  * longitude  (longitude) float32 0.0 0.1 0.2 0.3 ... 359.6 359.7 359.8 359.9\n",
            "  * latitude   (latitude) float32 90.0 89.9 89.8 89.7 ... -89.8 -89.9 -90.0\n",
            "  * time       (time) datetime64[ns] 2019-12-01T12:00:00 ... 2019-12-07T12:00:00\n",
            "Attributes:\n",
            "    units:      m\n",
            "    long_name:  Total precipitation\n"
          ],
          "name": "stdout"
        }
      ]
    },
    {
      "cell_type": "markdown",
      "metadata": {
        "id": "kH__oMYWcEhi"
      },
      "source": [
        "## 3. Volumetric soil water layer 1\n",
        "\n"
      ]
    },
    {
      "cell_type": "code",
      "metadata": {
        "colab": {
          "base_uri": "https://localhost:8080/"
        },
        "id": "-QCLH3tKcICp",
        "outputId": "886f1ecc-9c4a-4865-8c4f-46ae3224006d"
      },
      "source": [
        "print(ds2)"
      ],
      "execution_count": null,
      "outputs": [
        {
          "output_type": "stream",
          "text": [
            "<xarray.Dataset>\n",
            "Dimensions:    (latitude: 1801, longitude: 3600, time: 7)\n",
            "Coordinates:\n",
            "  * longitude  (longitude) float32 0.0 0.1 0.2 0.3 ... 359.6 359.7 359.8 359.9\n",
            "  * latitude   (latitude) float32 90.0 89.9 89.8 89.7 ... -89.8 -89.9 -90.0\n",
            "  * time       (time) datetime64[ns] 2019-12-01T12:00:00 ... 2019-12-07T12:00:00\n",
            "Data variables:\n",
            "    swvl1      (time, latitude, longitude) float32 ...\n",
            "Attributes:\n",
            "    Conventions:  CF-1.6\n",
            "    history:      2020-12-01 13:49:03 GMT by grib_to_netcdf-2.16.0: /opt/ecmw...\n"
          ],
          "name": "stdout"
        }
      ]
    },
    {
      "cell_type": "code",
      "metadata": {
        "colab": {
          "base_uri": "https://localhost:8080/"
        },
        "id": "47yPpZxQcIHS",
        "outputId": "58e7fc01-b894-486a-d54d-557890112489"
      },
      "source": [
        "print(ds2['swvl1'])"
      ],
      "execution_count": null,
      "outputs": [
        {
          "output_type": "stream",
          "text": [
            "<xarray.DataArray 'swvl1' (time: 7, latitude: 1801, longitude: 3600)>\n",
            "[45385200 values with dtype=float32]\n",
            "Coordinates:\n",
            "  * longitude  (longitude) float32 0.0 0.1 0.2 0.3 ... 359.6 359.7 359.8 359.9\n",
            "  * latitude   (latitude) float32 90.0 89.9 89.8 89.7 ... -89.8 -89.9 -90.0\n",
            "  * time       (time) datetime64[ns] 2019-12-01T12:00:00 ... 2019-12-07T12:00:00\n",
            "Attributes:\n",
            "    units:      m**3 m**-3\n",
            "    long_name:  Volumetric soil water layer 1\n"
          ],
          "name": "stdout"
        }
      ]
    },
    {
      "cell_type": "markdown",
      "metadata": {
        "id": "5z2UTPnHdCYo"
      },
      "source": [
        "# Statistics\n",
        "\n"
      ]
    },
    {
      "cell_type": "markdown",
      "metadata": {
        "id": "QEi99n5ni2np"
      },
      "source": [
        "## 1. Temperature of air at 2m above the surface "
      ]
    },
    {
      "cell_type": "markdown",
      "metadata": {
        "id": "5NibibQ88dl_"
      },
      "source": [
        "### Calculating mean"
      ]
    },
    {
      "cell_type": "code",
      "metadata": {
        "colab": {
          "base_uri": "https://localhost:8080/"
        },
        "id": "M3Jh4ReT8bWW",
        "outputId": "a9848c83-7fb3-4513-9643-630b5a0dd214"
      },
      "source": [
        "mean=ds.t2m.mean()\n",
        "print(mean.values)"
      ],
      "execution_count": null,
      "outputs": [
        {
          "output_type": "stream",
          "text": [
            "268.3318\n"
          ],
          "name": "stdout"
        }
      ]
    },
    {
      "cell_type": "markdown",
      "metadata": {
        "id": "YXXf3SXb8ts7"
      },
      "source": [
        "### Calculating median"
      ]
    },
    {
      "cell_type": "code",
      "metadata": {
        "colab": {
          "base_uri": "https://localhost:8080/"
        },
        "id": "DxE_waH-8wBK",
        "outputId": "d0e77265-2357-4b54-c476-f258ff0847ea"
      },
      "source": [
        "median=ds.t2m.median()\n",
        "print(median.values)"
      ],
      "execution_count": null,
      "outputs": [
        {
          "output_type": "stream",
          "text": [
            "264.14520263671875\n"
          ],
          "name": "stdout"
        }
      ]
    },
    {
      "cell_type": "markdown",
      "metadata": {
        "id": "22w4l-qU8_i8"
      },
      "source": [
        "### Calcualting standard deviation"
      ]
    },
    {
      "cell_type": "code",
      "metadata": {
        "colab": {
          "base_uri": "https://localhost:8080/"
        },
        "id": "9OF4XU1_81qB",
        "outputId": "8fd9da2a-0e77-425e-a503-de4c0b4dc2bd"
      },
      "source": [
        "standar_dev=ds.t2m.std()\n",
        "print(standar_dev.values)"
      ],
      "execution_count": null,
      "outputs": [
        {
          "output_type": "stream",
          "text": [
            "22.902767181396484\n"
          ],
          "name": "stdout"
        }
      ]
    },
    {
      "cell_type": "markdown",
      "metadata": {
        "id": "BRunjfuJ9K2i"
      },
      "source": [
        "### Calculating variance"
      ]
    },
    {
      "cell_type": "code",
      "metadata": {
        "colab": {
          "base_uri": "https://localhost:8080/"
        },
        "id": "T1X8WGer9J9o",
        "outputId": "9d446ea1-9ae9-4021-8967-23b1c71c8d06"
      },
      "source": [
        "variance = ds.t2m.var()\n",
        "print(variance.values)"
      ],
      "execution_count": null,
      "outputs": [
        {
          "output_type": "stream",
          "text": [
            "524.5367431640625\n"
          ],
          "name": "stdout"
        }
      ]
    },
    {
      "cell_type": "markdown",
      "metadata": {
        "id": "kQztSREf9V86"
      },
      "source": [
        "### Range"
      ]
    },
    {
      "cell_type": "code",
      "metadata": {
        "colab": {
          "base_uri": "https://localhost:8080/"
        },
        "id": "WZsbbE0u9TEH",
        "outputId": "f71faf0f-7abc-482f-b0ae-aa23c2d3ed45"
      },
      "source": [
        "minimum = ds.t2m.min()\n",
        "maximum = ds.t2m.max()\n",
        "print('Range is',minimum.values,'to',maximum.values)"
      ],
      "execution_count": null,
      "outputs": [
        {
          "output_type": "stream",
          "text": [
            "Range is 222.674560546875 to 315.6190185546875\n"
          ],
          "name": "stdout"
        }
      ]
    },
    {
      "cell_type": "markdown",
      "metadata": {
        "id": "OPqA4FyLaeFz"
      },
      "source": [
        "The mean and median of \"**Temperature of air at 2m above the surface**\" is same, which means that the distribution is maybe symmetric around **268.33**(which is the mean). The standard deviation is **22.90** is high implies that most of the observations spread far from the mean. The range is **222.675** to **315.756**  "
      ]
    },
    {
      "cell_type": "markdown",
      "metadata": {
        "id": "gtkmPLgOZrlu"
      },
      "source": [
        "### Calculating Null"
      ]
    },
    {
      "cell_type": "code",
      "metadata": {
        "colab": {
          "base_uri": "https://localhost:8080/"
        },
        "id": "O8qaQKLE9g_A",
        "outputId": "97984457-c453-460d-fcd0-7fba1b044bcf"
      },
      "source": [
        "null=ds.t2m.isnull()\n",
        "print(null.sum().values)"
      ],
      "execution_count": null,
      "outputs": [
        {
          "output_type": "stream",
          "text": [
            "29895159\n"
          ],
          "name": "stdout"
        }
      ]
    },
    {
      "cell_type": "markdown",
      "metadata": {
        "id": "nLAMRCXWetTk"
      },
      "source": [
        "The total missing values are **29895159**. The null observations can be filled with **mean** value."
      ]
    },
    {
      "cell_type": "code",
      "metadata": {
        "colab": {
          "base_uri": "https://localhost:8080/",
          "height": 313
        },
        "id": "vD6LOVG98ZHR",
        "outputId": "cf39f713-2d59-4be4-db90-2ca8e8740841"
      },
      "source": [
        "ds.t2m[2].plot()"
      ],
      "execution_count": null,
      "outputs": [
        {
          "output_type": "execute_result",
          "data": {
            "text/plain": [
              "<matplotlib.collections.QuadMesh at 0x7faac789c048>"
            ]
          },
          "metadata": {
            "tags": []
          },
          "execution_count": 32
        },
        {
          "output_type": "display_data",
          "data": {
            "image/png": "[encoded data removed]",
            "text/plain": [
              "<Figure size 432x288 with 2 Axes>"
            ]
          },
          "metadata": {
            "tags": []
          }
        }
      ]
    },
    {
      "cell_type": "code",
      "metadata": {
        "id": "QIaOCzvAZBOa"
      },
      "source": [
        "df = ds.to_dataframe()"
      ],
      "execution_count": null,
      "outputs": []
    },
    {
      "cell_type": "code",
      "metadata": {
        "colab": {
          "base_uri": "https://localhost:8080/",
          "height": 315
        },
        "id": "6LQQoauXfnfx",
        "outputId": "c36be30e-540e-4d45-842a-90f1db849208"
      },
      "source": [
        "df.hist(bins=50)"
      ],
      "execution_count": null,
      "outputs": [
        {
          "output_type": "execute_result",
          "data": {
            "text/plain": [
              "array([[<matplotlib.axes._subplots.AxesSubplot object at 0x7f502fb15a20>]],\n",
              "      dtype=object)"
            ]
          },
          "metadata": {
            "tags": []
          },
          "execution_count": 91
        },
        {
          "output_type": "display_data",
          "data": {
            "image/png": "[encoded data removed]",
            "text/plain": [
              "<Figure size 432x288 with 1 Axes>"
            ]
          },
          "metadata": {
            "tags": []
          }
        }
      ]
    },
    {
      "cell_type": "markdown",
      "metadata": {
        "id": "IaYbIJzigPz8"
      },
      "source": [
        "So on plotting the histogram of the observations are not symmetric even though the mean, median are same(almost). It is bimodal type of distribution"
      ]
    },
    {
      "cell_type": "markdown",
      "metadata": {
        "id": "OCIBy-fyi_kH"
      },
      "source": [
        "## 2. Total precipitation"
      ]
    },
    {
      "cell_type": "markdown",
      "metadata": {
        "id": "fArQPtqajS4-"
      },
      "source": [
        "### Calculating mean"
      ]
    },
    {
      "cell_type": "code",
      "metadata": {
        "colab": {
          "base_uri": "https://localhost:8080/"
        },
        "id": "63ByKDpEjS4_",
        "outputId": "9971af24-7303-4b6d-a395-3fca74090ae6"
      },
      "source": [
        "mean=ds1['tp'].mean()\n",
        "print(mean.values)"
      ],
      "execution_count": null,
      "outputs": [
        {
          "output_type": "stream",
          "text": [
            "0.00069437234\n"
          ],
          "name": "stdout"
        }
      ]
    },
    {
      "cell_type": "markdown",
      "metadata": {
        "id": "XhYY7t5_jYhe"
      },
      "source": [
        "### Calculating median"
      ]
    },
    {
      "cell_type": "code",
      "metadata": {
        "colab": {
          "base_uri": "https://localhost:8080/"
        },
        "id": "Oubb3tSOjYhe",
        "outputId": "79683ef3-59a2-40be-8191-cfcb73bf0c0c"
      },
      "source": [
        "median=ds1['tp'].median()\n",
        "print(median.values)"
      ],
      "execution_count": null,
      "outputs": [
        {
          "output_type": "stream",
          "text": [
            "1.0408461093902588e-05\n"
          ],
          "name": "stdout"
        }
      ]
    },
    {
      "cell_type": "markdown",
      "metadata": {
        "id": "moD1Oy0hjYhe"
      },
      "source": [
        "### Calcualting standard deviation"
      ]
    },
    {
      "cell_type": "code",
      "metadata": {
        "colab": {
          "base_uri": "https://localhost:8080/"
        },
        "id": "W7xNWRFFjYhe",
        "outputId": "18fedaae-45da-4545-92df-1e5dd83aaeaa"
      },
      "source": [
        "standar_dev=ds1['tp'].std()\n",
        "print(standar_dev.values)"
      ],
      "execution_count": null,
      "outputs": [
        {
          "output_type": "stream",
          "text": [
            "0.0025139511562883854\n"
          ],
          "name": "stdout"
        }
      ]
    },
    {
      "cell_type": "markdown",
      "metadata": {
        "id": "cprYKrzkjYhe"
      },
      "source": [
        "### Calculating variance"
      ]
    },
    {
      "cell_type": "code",
      "metadata": {
        "colab": {
          "base_uri": "https://localhost:8080/"
        },
        "id": "Ehs-_h16jYhe",
        "outputId": "8795320d-f2df-4334-9bf8-f13cdd609914"
      },
      "source": [
        "variance = ds1['tp'].var()\n",
        "print(variance.values)"
      ],
      "execution_count": null,
      "outputs": [
        {
          "output_type": "stream",
          "text": [
            "6.319950898614479e-06\n"
          ],
          "name": "stdout"
        }
      ]
    },
    {
      "cell_type": "markdown",
      "metadata": {
        "id": "7fWJ3oHwjYhe"
      },
      "source": [
        "### Range"
      ]
    },
    {
      "cell_type": "code",
      "metadata": {
        "colab": {
          "base_uri": "https://localhost:8080/"
        },
        "id": "07NVRHlZjYhe",
        "outputId": "10ef9984-a3ec-4946-b8a4-50f8bf52fa7f"
      },
      "source": [
        "minimum = ds1['tp'].min()\n",
        "maximum = ds1['tp'].max()\n",
        "print('Range is',minimum.values,'to',maximum.values)"
      ],
      "execution_count": null,
      "outputs": [
        {
          "output_type": "stream",
          "text": [
            "Range is 0.0 to 0.17055945098400116\n"
          ],
          "name": "stdout"
        }
      ]
    },
    {
      "cell_type": "markdown",
      "metadata": {
        "id": "m8LEcCNrjYhe"
      },
      "source": [
        "For \"**Total precipitation**\" data mean is **0.000694** and median is **0.00001**. The standard deviation is **0.0025**, which is large as compared to mean indicating that data points are spread far from the mean. The range is **0** to **0.17**."
      ]
    },
    {
      "cell_type": "markdown",
      "metadata": {
        "id": "6XmeJlCnjYhe"
      },
      "source": [
        "### Calculating Null"
      ]
    },
    {
      "cell_type": "code",
      "metadata": {
        "colab": {
          "base_uri": "https://localhost:8080/"
        },
        "id": "YMDcjz0LjYhe",
        "outputId": "0ec1ae96-2e47-4dc1-a2ab-70f93f76d151"
      },
      "source": [
        "null=ds1['tp'].isnull()\n",
        "print(null.sum().values)"
      ],
      "execution_count": null,
      "outputs": [
        {
          "output_type": "stream",
          "text": [
            "29895159\n"
          ],
          "name": "stdout"
        }
      ]
    },
    {
      "cell_type": "markdown",
      "metadata": {
        "id": "x4pA24BojYhf"
      },
      "source": [
        "The total missing values are **29895159**. The null observations can be filled with **mean** value or can be filled MICE or Multivariate Imputation by Chained Equation can be used, which is an imputation method which works by filling the missing data multiple times."
      ]
    },
    {
      "cell_type": "code",
      "metadata": {
        "colab": {
          "base_uri": "https://localhost:8080/",
          "height": 313
        },
        "id": "ZmpYEhxjjYhf",
        "outputId": "cb8b3eeb-ea54-4245-de37-a0216e6da25b"
      },
      "source": [
        "ds1.tp[6].plot()"
      ],
      "execution_count": null,
      "outputs": [
        {
          "output_type": "execute_result",
          "data": {
            "text/plain": [
              "<matplotlib.collections.QuadMesh at 0x7f502f4e9358>"
            ]
          },
          "metadata": {
            "tags": []
          },
          "execution_count": 111
        },
        {
          "output_type": "display_data",
          "data": {
            "image/png": "[encoded data removed]",
            "text/plain": [
              "<Figure size 432x288 with 2 Axes>"
            ]
          },
          "metadata": {
            "tags": []
          }
        }
      ]
    },
    {
      "cell_type": "code",
      "metadata": {
        "id": "ex6LIvM6jYhf"
      },
      "source": [
        "df1 = ds1.to_dataframe()"
      ],
      "execution_count": null,
      "outputs": []
    },
    {
      "cell_type": "code",
      "metadata": {
        "colab": {
          "base_uri": "https://localhost:8080/"
        },
        "id": "ZRiaEU0zqWX0",
        "outputId": "0fa5cb62-8afd-42ee-cca5-0b864f023a41"
      },
      "source": [
        "df1.skew()"
      ],
      "execution_count": null,
      "outputs": [
        {
          "output_type": "execute_result",
          "data": {
            "text/plain": [
              "tp    10.873617\n",
              "dtype: float32"
            ]
          },
          "metadata": {
            "tags": []
          },
          "execution_count": 115
        }
      ]
    },
    {
      "cell_type": "code",
      "metadata": {
        "colab": {
          "base_uri": "https://localhost:8080/",
          "height": 315
        },
        "id": "Cv-8g0zTjYhf",
        "outputId": "5570c7cc-290a-434a-93d5-f877a4efd1bf"
      },
      "source": [
        "df1.hist(bins=50, range=[0, 0.001])"
      ],
      "execution_count": null,
      "outputs": [
        {
          "output_type": "execute_result",
          "data": {
            "text/plain": [
              "array([[<matplotlib.axes._subplots.AxesSubplot object at 0x7f502f456550>]],\n",
              "      dtype=object)"
            ]
          },
          "metadata": {
            "tags": []
          },
          "execution_count": 114
        },
        {
          "output_type": "display_data",
          "data": {
            "image/png": "[encoded data removed]",
            "text/plain": [
              "<Figure size 432x288 with 1 Axes>"
            ]
          },
          "metadata": {
            "tags": []
          }
        }
      ]
    },
    {
      "cell_type": "markdown",
      "metadata": {
        "id": "sB0NNbYhjYhf"
      },
      "source": [
        "From the plot it can be observed that the data points are right skewed."
      ]
    },
    {
      "cell_type": "markdown",
      "metadata": {
        "id": "pkAxFsDawgco"
      },
      "source": [
        "## 3. Volumetric soil water layer 1\n",
        "\n"
      ]
    },
    {
      "cell_type": "markdown",
      "metadata": {
        "id": "4NbOjF60wttV"
      },
      "source": [
        "### Calculating mean"
      ]
    },
    {
      "cell_type": "code",
      "metadata": {
        "colab": {
          "base_uri": "https://localhost:8080/"
        },
        "id": "XmPFDsYOwttW",
        "outputId": "0dbe46be-6116-4887-f6d7-90294fa9c891"
      },
      "source": [
        "mean=ds2['swvl1'].mean()\n",
        "print(mean.values)"
      ],
      "execution_count": null,
      "outputs": [
        {
          "output_type": "stream",
          "text": [
            "0.26458362\n"
          ],
          "name": "stdout"
        }
      ]
    },
    {
      "cell_type": "markdown",
      "metadata": {
        "id": "R3f5qtfXwttb"
      },
      "source": [
        "### Calculating median"
      ]
    },
    {
      "cell_type": "code",
      "metadata": {
        "colab": {
          "base_uri": "https://localhost:8080/"
        },
        "id": "ZQ3Wzc-Ywttb",
        "outputId": "b2cdbbcb-59c1-45fd-a132-6537457c80df"
      },
      "source": [
        "median=ds2['swvl1'].median()\n",
        "print(median.values)"
      ],
      "execution_count": null,
      "outputs": [
        {
          "output_type": "stream",
          "text": [
            "0.2705504894256592\n"
          ],
          "name": "stdout"
        }
      ]
    },
    {
      "cell_type": "markdown",
      "metadata": {
        "id": "TTKbpWI2wttc"
      },
      "source": [
        "### Calcualting standard deviation"
      ]
    },
    {
      "cell_type": "code",
      "metadata": {
        "colab": {
          "base_uri": "https://localhost:8080/"
        },
        "id": "IBnujwtBwttc",
        "outputId": "5fc12e78-8708-4f57-810e-3294f3d4a4d6"
      },
      "source": [
        "standar_dev=ds2['swvl1'].std()\n",
        "print(standar_dev.values)"
      ],
      "execution_count": null,
      "outputs": [
        {
          "output_type": "stream",
          "text": [
            "0.12834720313549042\n"
          ],
          "name": "stdout"
        }
      ]
    },
    {
      "cell_type": "markdown",
      "metadata": {
        "id": "5TQo3sh5wttc"
      },
      "source": [
        "### Calculating variance"
      ]
    },
    {
      "cell_type": "code",
      "metadata": {
        "colab": {
          "base_uri": "https://localhost:8080/"
        },
        "id": "uyYLZojdwttc",
        "outputId": "0918e4ee-c7ba-4686-838d-1f2268e619e8"
      },
      "source": [
        "variance = ds2['swvl1'].var()\n",
        "print(variance.values)"
      ],
      "execution_count": null,
      "outputs": [
        {
          "output_type": "stream",
          "text": [
            "0.01647300273180008\n"
          ],
          "name": "stdout"
        }
      ]
    },
    {
      "cell_type": "markdown",
      "metadata": {
        "id": "F0l9DQaowttd"
      },
      "source": [
        "### Range"
      ]
    },
    {
      "cell_type": "code",
      "metadata": {
        "colab": {
          "base_uri": "https://localhost:8080/"
        },
        "id": "irNHQ2lmwttd",
        "outputId": "310edb8e-e810-4b94-d10f-c69a50beca8e"
      },
      "source": [
        "minimum = ds2['swvl1'].min()\n",
        "maximum = ds2['swvl1'].max()\n",
        "print('Range is',minimum.values,'to',maximum.values)"
      ],
      "execution_count": null,
      "outputs": [
        {
          "output_type": "stream",
          "text": [
            "Range is 0.0 to 0.7660064697265625\n"
          ],
          "name": "stdout"
        }
      ]
    },
    {
      "cell_type": "markdown",
      "metadata": {
        "id": "am7C-y3awttd"
      },
      "source": [
        "For \"**Volumetric soil water layer 1**\" data mean is **0.26** and median is **0.27**, as the mean and median is nearly same the data points can be uniformly distributed. The standard deviation is **0.128**, which is large as compared to mean indicating that data points are spread far from the mean. The range is **0** to **0.766**."
      ]
    },
    {
      "cell_type": "markdown",
      "metadata": {
        "id": "BQ94o12iwttd"
      },
      "source": [
        "### Calculating Null"
      ]
    },
    {
      "cell_type": "code",
      "metadata": {
        "colab": {
          "base_uri": "https://localhost:8080/"
        },
        "id": "yfEtV85Qwtte",
        "outputId": "14cebf7b-baa9-41cb-bdfd-928c4cdddaa3"
      },
      "source": [
        "null=ds2['swvl1'].isnull()\n",
        "print(null.sum().values)"
      ],
      "execution_count": null,
      "outputs": [
        {
          "output_type": "stream",
          "text": [
            "29895159\n"
          ],
          "name": "stdout"
        }
      ]
    },
    {
      "cell_type": "markdown",
      "metadata": {
        "id": "A8RAUKuKwtte"
      },
      "source": [
        "The total missing values are **64061055**. The null observations can be filled with **mean** value or filling with MICE can be preferred."
      ]
    },
    {
      "cell_type": "code",
      "metadata": {
        "colab": {
          "base_uri": "https://localhost:8080/",
          "height": 313
        },
        "id": "uaFMPk3gwtte",
        "outputId": "4dc591db-dd1e-4db5-d64c-02da2e7c7a8a"
      },
      "source": [
        "ds2['swvl1'][6].plot()"
      ],
      "execution_count": null,
      "outputs": [
        {
          "output_type": "execute_result",
          "data": {
            "text/plain": [
              "<matplotlib.collections.QuadMesh at 0x7f502f3346a0>"
            ]
          },
          "metadata": {
            "tags": []
          },
          "execution_count": 124
        },
        {
          "output_type": "display_data",
          "data": {
            "image/png": "[encoded data removed]",
            "text/plain": [
              "<Figure size 432x288 with 2 Axes>"
            ]
          },
          "metadata": {
            "tags": []
          }
        }
      ]
    },
    {
      "cell_type": "code",
      "metadata": {
        "id": "PkuqAsAnwttf"
      },
      "source": [
        "df2 = ds2.to_dataframe()"
      ],
      "execution_count": null,
      "outputs": []
    },
    {
      "cell_type": "code",
      "metadata": {
        "colab": {
          "base_uri": "https://localhost:8080/",
          "height": 315
        },
        "id": "uSUdWCLJwttg",
        "outputId": "6c8c626b-b43f-4150-95fa-0b5b74762fa7"
      },
      "source": [
        "df2.hist(bins=50)"
      ],
      "execution_count": null,
      "outputs": [
        {
          "output_type": "execute_result",
          "data": {
            "text/plain": [
              "array([[<matplotlib.axes._subplots.AxesSubplot object at 0x7f502f2485c0>]],\n",
              "      dtype=object)"
            ]
          },
          "metadata": {
            "tags": []
          },
          "execution_count": 126
        },
        {
          "output_type": "display_data",
          "data": {
            "image/png": "[encoded data removed]",
            "text/plain": [
              "<Figure size 432x288 with 1 Axes>"
            ]
          },
          "metadata": {
            "tags": []
          }
        }
      ]
    },
    {
      "cell_type": "markdown",
      "metadata": {
        "id": "ProOrb0ZxRED"
      },
      "source": [
        "So from the plot the data points are unimodal type of distribution. As the standard deviation is large the data points spread far from the mean."
      ]
    },
    {
      "cell_type": "markdown",
      "metadata": {
        "id": "6GGsEqtEAX_W"
      },
      "source": [
        "# Preprocessing Geospatial Data"
      ]
    },
    {
      "cell_type": "markdown",
      "metadata": {
        "id": "RPEcZMzzGB-w"
      },
      "source": [
        "## Interpolation"
      ]
    },
    {
      "cell_type": "code",
      "metadata": {
        "id": "IKLF9cp-Ak9k"
      },
      "source": [
        "# Create new latitude and longitude\n",
        "dx_new = 0.05\n",
        "newlon = np.arange(0, 360, dx_new)\n",
        "dx_new_ = -0.05\n",
        "newlat = np.arange(90, -90+dx_new_, dx_new_)\n",
        "#newlat = np.arange(-90, 90+dx_new, dx_new)\n"
      ],
      "execution_count": null,
      "outputs": []
    },
    {
      "cell_type": "code",
      "metadata": {
        "colab": {
          "base_uri": "https://localhost:8080/"
        },
        "id": "rlxAqTy-0QWy",
        "outputId": "d4c649a5-8dd6-4be9-e424-da0578e973fd"
      },
      "source": [
        "dx_new = -0.05\n",
        "test = np.arange(90, -90+dx_new, dx_new)\n",
        "print(test)"
      ],
      "execution_count": null,
      "outputs": [
        {
          "output_type": "stream",
          "text": [
            "[ 90.    89.95  89.9  ... -89.9  -89.95 -90.  ]\n"
          ],
          "name": "stdout"
        }
      ]
    },
    {
      "cell_type": "markdown",
      "metadata": {
        "id": "YUs2oHJ7Ag4a"
      },
      "source": [
        "### 1. Temperature of air at 2m above the surface "
      ]
    },
    {
      "cell_type": "code",
      "metadata": {
        "colab": {
          "base_uri": "https://localhost:8080/"
        },
        "id": "vIHwAOkZBTjN",
        "outputId": "301d9246-9860-4e3e-fcf3-91878da2bce5"
      },
      "source": [
        "print(ds)"
      ],
      "execution_count": null,
      "outputs": [
        {
          "output_type": "stream",
          "text": [
            "<xarray.Dataset>\n",
            "Dimensions:    (latitude: 1801, longitude: 3600, time: 7)\n",
            "Coordinates:\n",
            "  * longitude  (longitude) float32 0.0 0.1 0.2 0.3 ... 359.6 359.7 359.8 359.9\n",
            "  * latitude   (latitude) float32 90.0 89.9 89.8 89.7 ... -89.8 -89.9 -90.0\n",
            "  * time       (time) datetime64[ns] 2019-12-01T12:00:00 ... 2019-12-07T12:00:00\n",
            "Data variables:\n",
            "    t2m        (time, latitude, longitude) float32 ...\n",
            "Attributes:\n",
            "    Conventions:  CF-1.6\n",
            "    history:      2020-12-05 06:08:22 GMT by grib_to_netcdf-2.16.0: /opt/ecmw...\n"
          ],
          "name": "stdout"
        }
      ]
    },
    {
      "cell_type": "code",
      "metadata": {
        "id": "e1dYSl5dAhjr"
      },
      "source": [
        "# Interpolate\n",
        "ds = ds.interp(latitude=newlat, longitude=newlon)"
      ],
      "execution_count": null,
      "outputs": []
    },
    {
      "cell_type": "code",
      "metadata": {
        "colab": {
          "base_uri": "https://localhost:8080/"
        },
        "id": "NB-vurOk_dIB",
        "outputId": "21fb4733-68f2-48dd-8c12-0e7981508cf5"
      },
      "source": [
        "print(ds)"
      ],
      "execution_count": null,
      "outputs": [
        {
          "output_type": "stream",
          "text": [
            "<xarray.Dataset>\n",
            "Dimensions:    (latitude: 3601, longitude: 7200, time: 7)\n",
            "Coordinates:\n",
            "  * time       (time) datetime64[ns] 2019-12-01T12:00:00 ... 2019-12-07T12:00:00\n",
            "  * latitude   (latitude) float64 90.0 89.95 89.9 89.85 ... -89.9 -89.95 -90.0\n",
            "  * longitude  (longitude) float64 0.0 0.05 0.1 0.15 ... 359.8 359.9 359.9 360.0\n",
            "Data variables:\n",
            "    t2m        (time, latitude, longitude) float64 nan nan nan ... 243.1 nan nan\n",
            "Attributes:\n",
            "    Conventions:  CF-1.6\n",
            "    history:      2020-12-05 06:08:22 GMT by grib_to_netcdf-2.16.0: /opt/ecmw...\n"
          ],
          "name": "stdout"
        }
      ]
    },
    {
      "cell_type": "markdown",
      "metadata": {
        "id": "X-8UEsCDB3Tq"
      },
      "source": [
        "### 2. Total Precipiataiton "
      ]
    },
    {
      "cell_type": "code",
      "metadata": {
        "colab": {
          "base_uri": "https://localhost:8080/"
        },
        "id": "IbvPDtej_h-r",
        "outputId": "7b553525-37e3-4c8c-8e91-159fa67a3d17"
      },
      "source": [
        "print(ds1)"
      ],
      "execution_count": null,
      "outputs": [
        {
          "output_type": "stream",
          "text": [
            "<xarray.Dataset>\n",
            "Dimensions:    (latitude: 1801, longitude: 3600, time: 7)\n",
            "Coordinates:\n",
            "  * longitude  (longitude) float32 0.0 0.1 0.2 0.3 ... 359.6 359.7 359.8 359.9\n",
            "  * latitude   (latitude) float32 90.0 89.9 89.8 89.7 ... -89.8 -89.9 -90.0\n",
            "  * time       (time) datetime64[ns] 2019-12-01T12:00:00 ... 2019-12-07T12:00:00\n",
            "Data variables:\n",
            "    tp         (time, latitude, longitude) float32 ...\n",
            "Attributes:\n",
            "    Conventions:  CF-1.6\n",
            "    history:      2020-12-02 12:04:52 GMT by grib_to_netcdf-2.16.0: /opt/ecmw...\n"
          ],
          "name": "stdout"
        }
      ]
    },
    {
      "cell_type": "code",
      "metadata": {
        "id": "Nrwc-74QB-2P"
      },
      "source": [
        "# Interpolate\n",
        "ds1 = ds1.interp(latitude=newlat, longitude=newlon)"
      ],
      "execution_count": null,
      "outputs": []
    },
    {
      "cell_type": "code",
      "metadata": {
        "colab": {
          "base_uri": "https://localhost:8080/"
        },
        "id": "4FcBdKfTEHWh",
        "outputId": "c76bd079-f2d9-4b75-c9f1-919578f4059f"
      },
      "source": [
        "print(ds1)"
      ],
      "execution_count": null,
      "outputs": [
        {
          "output_type": "stream",
          "text": [
            "<xarray.Dataset>\n",
            "Dimensions:    (latitude: 3601, longitude: 7200, time: 7)\n",
            "Coordinates:\n",
            "  * time       (time) datetime64[ns] 2019-12-01T12:00:00 ... 2019-12-07T12:00:00\n",
            "  * latitude   (latitude) float64 90.0 89.95 89.9 89.85 ... -89.9 -89.95 -90.0\n",
            "  * longitude  (longitude) float64 0.0 0.05 0.1 0.15 ... 359.8 359.9 359.9 360.0\n",
            "Data variables:\n",
            "    tp         (time, latitude, longitude) float64 nan nan nan ... 0.0 nan nan\n",
            "Attributes:\n",
            "    Conventions:  CF-1.6\n",
            "    history:      2020-12-02 12:04:52 GMT by grib_to_netcdf-2.16.0: /opt/ecmw...\n"
          ],
          "name": "stdout"
        }
      ]
    },
    {
      "cell_type": "markdown",
      "metadata": {
        "id": "1dwgmQXqCDyf"
      },
      "source": [
        "### 3. Volumteric soil water layer 1"
      ]
    },
    {
      "cell_type": "code",
      "metadata": {
        "colab": {
          "base_uri": "https://localhost:8080/"
        },
        "id": "kvd-IkEhlKhy",
        "outputId": "3e2c1330-6db3-477a-c82c-477b3598babd"
      },
      "source": [
        "print(ds2)"
      ],
      "execution_count": null,
      "outputs": [
        {
          "output_type": "stream",
          "text": [
            "<xarray.Dataset>\n",
            "Dimensions:    (latitude: 1801, longitude: 3600, time: 7)\n",
            "Coordinates:\n",
            "  * longitude  (longitude) float32 0.0 0.1 0.2 0.3 ... 359.6 359.7 359.8 359.9\n",
            "  * latitude   (latitude) float32 90.0 89.9 89.8 89.7 ... -89.8 -89.9 -90.0\n",
            "  * time       (time) datetime64[ns] 2019-12-01T12:00:00 ... 2019-12-07T12:00:00\n",
            "Data variables:\n",
            "    swvl1      (time, latitude, longitude) float32 ...\n",
            "Attributes:\n",
            "    Conventions:  CF-1.6\n",
            "    history:      2020-12-01 13:49:03 GMT by grib_to_netcdf-2.16.0: /opt/ecmw...\n"
          ],
          "name": "stdout"
        }
      ]
    },
    {
      "cell_type": "code",
      "metadata": {
        "id": "FPaafb2D_64B"
      },
      "source": [
        "# Interpolate\n",
        "ds2 = ds2.interp(latitude=newlat, longitude=newlon)"
      ],
      "execution_count": null,
      "outputs": []
    },
    {
      "cell_type": "code",
      "metadata": {
        "colab": {
          "base_uri": "https://localhost:8080/"
        },
        "id": "d_hHrtv3AOmo",
        "outputId": "8f7f438d-4409-42a0-df66-5f1f0888075d"
      },
      "source": [
        "print(ds2)"
      ],
      "execution_count": null,
      "outputs": [
        {
          "output_type": "stream",
          "text": [
            "<xarray.Dataset>\n",
            "Dimensions:    (latitude: 3601, longitude: 7200, time: 7)\n",
            "Coordinates:\n",
            "  * time       (time) datetime64[ns] 2019-12-01T12:00:00 ... 2019-12-07T12:00:00\n",
            "  * latitude   (latitude) float64 90.0 89.95 89.9 89.85 ... -89.9 -89.95 -90.0\n",
            "  * longitude  (longitude) float64 0.0 0.05 0.1 0.15 ... 359.8 359.9 359.9 360.0\n",
            "Data variables:\n",
            "    swvl1      (time, latitude, longitude) float64 nan nan nan ... nan nan\n",
            "Attributes:\n",
            "    Conventions:  CF-1.6\n",
            "    history:      2020-12-01 13:49:03 GMT by grib_to_netcdf-2.16.0: /opt/ecmw...\n"
          ],
          "name": "stdout"
        }
      ]
    },
    {
      "cell_type": "markdown",
      "metadata": {
        "id": "5ZqPLCTTrazB"
      },
      "source": [
        "## Taking care of skewness Total precipitation"
      ]
    },
    {
      "cell_type": "code",
      "metadata": {
        "id": "PduuF9L-roB6"
      },
      "source": [
        "df1 = ds1.to_dataframe()"
      ],
      "execution_count": null,
      "outputs": []
    },
    {
      "cell_type": "code",
      "metadata": {
        "colab": {
          "base_uri": "https://localhost:8080/",
          "height": 297
        },
        "id": "DxhKZAgTroB6",
        "outputId": "7dc27ab9-2ece-4dac-f27e-2c21c7c975c9"
      },
      "source": [
        "df1.describe()"
      ],
      "execution_count": null,
      "outputs": [
        {
          "output_type": "execute_result",
          "data": {
            "text/html": [
              "<div>\n",
              "<style scoped>\n",
              "    .dataframe tbody tr th:only-of-type {\n",
              "        vertical-align: middle;\n",
              "    }\n",
              "\n",
              "    .dataframe tbody tr th {\n",
              "        vertical-align: top;\n",
              "    }\n",
              "\n",
              "    .dataframe thead th {\n",
              "        text-align: right;\n",
              "    }\n",
              "</style>\n",
              "<table border=\"1\" class=\"dataframe\">\n",
              "  <thead>\n",
              "    <tr style=\"text-align: right;\">\n",
              "      <th></th>\n",
              "      <th>tp</th>\n",
              "    </tr>\n",
              "  </thead>\n",
              "  <tbody>\n",
              "    <tr>\n",
              "      <th>count</th>\n",
              "      <td>6.073510e+07</td>\n",
              "    </tr>\n",
              "    <tr>\n",
              "      <th>mean</th>\n",
              "      <td>6.800715e-04</td>\n",
              "    </tr>\n",
              "    <tr>\n",
              "      <th>std</th>\n",
              "      <td>2.524778e-03</td>\n",
              "    </tr>\n",
              "    <tr>\n",
              "      <th>min</th>\n",
              "      <td>0.000000e+00</td>\n",
              "    </tr>\n",
              "    <tr>\n",
              "      <th>25%</th>\n",
              "      <td>0.000000e+00</td>\n",
              "    </tr>\n",
              "    <tr>\n",
              "      <th>50%</th>\n",
              "      <td>1.040842e-05</td>\n",
              "    </tr>\n",
              "    <tr>\n",
              "      <th>75%</th>\n",
              "      <td>2.387911e-04</td>\n",
              "    </tr>\n",
              "    <tr>\n",
              "      <th>max</th>\n",
              "      <td>1.705581e-01</td>\n",
              "    </tr>\n",
              "  </tbody>\n",
              "</table>\n",
              "</div>"
            ],
            "text/plain": [
              "                 tp\n",
              "count  6.073510e+07\n",
              "mean   6.800715e-04\n",
              "std    2.524778e-03\n",
              "min    0.000000e+00\n",
              "25%    0.000000e+00\n",
              "50%    1.040842e-05\n",
              "75%    2.387911e-04\n",
              "max    1.705581e-01"
            ]
          },
          "metadata": {
            "tags": []
          },
          "execution_count": 50
        }
      ]
    },
    {
      "cell_type": "code",
      "metadata": {
        "id": "t4JgxJJkroB7",
        "colab": {
          "base_uri": "https://localhost:8080/"
        },
        "outputId": "5d272105-ebed-4db7-a87b-369f680c9070"
      },
      "source": [
        "df1.skew()"
      ],
      "execution_count": null,
      "outputs": [
        {
          "output_type": "execute_result",
          "data": {
            "text/plain": [
              "tp    10.873617\n",
              "dtype: float32"
            ]
          },
          "metadata": {
            "tags": []
          },
          "execution_count": 112
        }
      ]
    },
    {
      "cell_type": "markdown",
      "metadata": {
        "id": "TkAglXVgHNmI"
      },
      "source": [
        "Totoal precipitation have a skewness of **10.873617**, which is highly skewed"
      ]
    },
    {
      "cell_type": "code",
      "metadata": {
        "colab": {
          "base_uri": "https://localhost:8080/",
          "height": 315
        },
        "id": "jBBEA7fOroB7",
        "outputId": "c40820af-9881-4fdc-fb9f-ca11c42dd6a5"
      },
      "source": [
        "df1.hist(bins=50, range=[0, 0.001])"
      ],
      "execution_count": null,
      "outputs": [
        {
          "output_type": "execute_result",
          "data": {
            "text/plain": [
              "array([[<matplotlib.axes._subplots.AxesSubplot object at 0x7f8eb8f2c5c0>]],\n",
              "      dtype=object)"
            ]
          },
          "metadata": {
            "tags": []
          },
          "execution_count": 8
        },
        {
          "output_type": "display_data",
          "data": {
            "image/png": "[encoded data removed]",
            "text/plain": [
              "<Figure size 432x288 with 1 Axes>"
            ]
          },
          "metadata": {
            "tags": []
          }
        }
      ]
    },
    {
      "cell_type": "markdown",
      "metadata": {
        "id": "-WNwu1XDHqeL"
      },
      "source": [
        "Taking square root of dataset"
      ]
    },
    {
      "cell_type": "code",
      "metadata": {
        "id": "1zH5lzXWrdfc"
      },
      "source": [
        "ds1_sqrt = np.sqrt(ds1)"
      ],
      "execution_count": null,
      "outputs": []
    },
    {
      "cell_type": "code",
      "metadata": {
        "id": "xQYAzb-er379"
      },
      "source": [
        "df1_sqrt = ds1_sqrt.to_dataframe()"
      ],
      "execution_count": null,
      "outputs": []
    },
    {
      "cell_type": "code",
      "metadata": {
        "colab": {
          "base_uri": "https://localhost:8080/",
          "height": 297
        },
        "id": "YE_vKzGWsA19",
        "outputId": "594bd71d-2eab-4d74-eb85-15a0a4e8cb41"
      },
      "source": [
        "df1_sqrt.describe()"
      ],
      "execution_count": null,
      "outputs": [
        {
          "output_type": "execute_result",
          "data": {
            "text/html": [
              "<div>\n",
              "<style scoped>\n",
              "    .dataframe tbody tr th:only-of-type {\n",
              "        vertical-align: middle;\n",
              "    }\n",
              "\n",
              "    .dataframe tbody tr th {\n",
              "        vertical-align: top;\n",
              "    }\n",
              "\n",
              "    .dataframe thead th {\n",
              "        text-align: right;\n",
              "    }\n",
              "</style>\n",
              "<table border=\"1\" class=\"dataframe\">\n",
              "  <thead>\n",
              "    <tr style=\"text-align: right;\">\n",
              "      <th></th>\n",
              "      <th>tp</th>\n",
              "    </tr>\n",
              "  </thead>\n",
              "  <tbody>\n",
              "    <tr>\n",
              "      <th>count</th>\n",
              "      <td>6.073510e+07</td>\n",
              "    </tr>\n",
              "    <tr>\n",
              "      <th>mean</th>\n",
              "      <td>1.284089e-02</td>\n",
              "    </tr>\n",
              "    <tr>\n",
              "      <th>std</th>\n",
              "      <td>2.269764e-02</td>\n",
              "    </tr>\n",
              "    <tr>\n",
              "      <th>min</th>\n",
              "      <td>0.000000e+00</td>\n",
              "    </tr>\n",
              "    <tr>\n",
              "      <th>25%</th>\n",
              "      <td>0.000000e+00</td>\n",
              "    </tr>\n",
              "    <tr>\n",
              "      <th>50%</th>\n",
              "      <td>3.226209e-03</td>\n",
              "    </tr>\n",
              "    <tr>\n",
              "      <th>75%</th>\n",
              "      <td>1.545287e-02</td>\n",
              "    </tr>\n",
              "    <tr>\n",
              "      <th>max</th>\n",
              "      <td>4.129868e-01</td>\n",
              "    </tr>\n",
              "  </tbody>\n",
              "</table>\n",
              "</div>"
            ],
            "text/plain": [
              "                 tp\n",
              "count  6.073510e+07\n",
              "mean   1.284089e-02\n",
              "std    2.269764e-02\n",
              "min    0.000000e+00\n",
              "25%    0.000000e+00\n",
              "50%    3.226209e-03\n",
              "75%    1.545287e-02\n",
              "max    4.129868e-01"
            ]
          },
          "metadata": {
            "tags": []
          },
          "execution_count": 10
        }
      ]
    },
    {
      "cell_type": "code",
      "metadata": {
        "colab": {
          "base_uri": "https://localhost:8080/"
        },
        "id": "B-d_y8AdsC7q",
        "outputId": "f7a37a6d-58ed-4e54-bc5c-ab4c0a644646"
      },
      "source": [
        "df1_sqrt.skew()"
      ],
      "execution_count": null,
      "outputs": [
        {
          "output_type": "execute_result",
          "data": {
            "text/plain": [
              "tp    3.13238\n",
              "dtype: float32"
            ]
          },
          "metadata": {
            "tags": []
          },
          "execution_count": 115
        }
      ]
    },
    {
      "cell_type": "markdown",
      "metadata": {
        "id": "jswWn9IyHxPd"
      },
      "source": [
        "As we can observe the  skewness is reduced to **3.13** from **10.56** which is still a notable differnce."
      ]
    },
    {
      "cell_type": "code",
      "metadata": {
        "colab": {
          "base_uri": "https://localhost:8080/",
          "height": 315
        },
        "id": "Usu5bN7TsJE4",
        "outputId": "77cabad1-7004-4990-f529-39bd3b14b90d"
      },
      "source": [
        "df1_sqrt.hist(bins=50, range=[0, 0.1])"
      ],
      "execution_count": null,
      "outputs": [
        {
          "output_type": "execute_result",
          "data": {
            "text/plain": [
              "array([[<matplotlib.axes._subplots.AxesSubplot object at 0x7f89d8b234e0>]],\n",
              "      dtype=object)"
            ]
          },
          "metadata": {
            "tags": []
          },
          "execution_count": 10
        },
        {
          "output_type": "display_data",
          "data": {
            "image/png": "[encoded data removed]",
            "text/plain": [
              "<Figure size 432x288 with 1 Axes>"
            ]
          },
          "metadata": {
            "tags": []
          }
        }
      ]
    },
    {
      "cell_type": "markdown",
      "metadata": {
        "id": "vLDXP4Ijn8xl"
      },
      "source": [
        "The distribution is preety much the same but the range is smaller.\n",
        "Boxcox method can be used to take care of the skewed dataset but this dataset contains **0** values so it can't be used."
      ]
    },
    {
      "cell_type": "markdown",
      "metadata": {
        "id": "OA_YMfYqxudO"
      },
      "source": [
        "# Deep Learning for Geospatial Data"
      ]
    },
    {
      "cell_type": "code",
      "metadata": {
        "id": "UyWY0WFRDhVG"
      },
      "source": [
        "temp = (ds['t2m'].values).ravel()\n",
        "prep = (ds1_sqrt['tp'].values).ravel()\n",
        "soil = (ds2['swvl1'].values).ravel()\n"
      ],
      "execution_count": null,
      "outputs": []
    },
    {
      "cell_type": "code",
      "metadata": {
        "colab": {
          "base_uri": "https://localhost:8080/"
        },
        "id": "29l1FRMqN9Gy",
        "outputId": "238d3e2b-02b2-4ec5-9e14-381fa4dce0c1"
      },
      "source": [
        "print('temp is ',temp)\n"
      ],
      "execution_count": null,
      "outputs": [
        {
          "output_type": "stream",
          "text": [
            "temp is  [      nan       nan       nan ... 243.09929 243.09929 243.09929]\n"
          ],
          "name": "stdout"
        }
      ]
    },
    {
      "cell_type": "code",
      "metadata": {
        "colab": {
          "base_uri": "https://localhost:8080/"
        },
        "id": "UKWIQtttPSeM",
        "outputId": "c9a34d0a-f214-446b-f2ab-23c14b98b83f"
      },
      "source": [
        "print('prep is ',prep)\n"
      ],
      "execution_count": null,
      "outputs": [
        {
          "output_type": "stream",
          "text": [
            "prep is  [nan nan nan ...  0.  0.  0.]\n"
          ],
          "name": "stdout"
        }
      ]
    },
    {
      "cell_type": "code",
      "metadata": {
        "colab": {
          "base_uri": "https://localhost:8080/"
        },
        "id": "DpXR7b86PTlS",
        "outputId": "a236d877-4ae3-4548-96ab-18710fd1372d"
      },
      "source": [
        "print('soil is ',soil)"
      ],
      "execution_count": null,
      "outputs": [
        {
          "output_type": "stream",
          "text": [
            "soil is  [      nan       nan       nan ... 0.2060981 0.2060981 0.2060981]\n"
          ],
          "name": "stdout"
        }
      ]
    },
    {
      "cell_type": "code",
      "metadata": {
        "id": "LbIAfkHfRfES"
      },
      "source": [
        "dataset = pd.DataFrame({'temp':temp, 'soil':soil, 'prep':prep})"
      ],
      "execution_count": null,
      "outputs": []
    },
    {
      "cell_type": "code",
      "metadata": {
        "colab": {
          "base_uri": "https://localhost:8080/"
        },
        "id": "WBMkgKypSR2J",
        "outputId": "e72e07e6-d93d-4810-9a16-279e066e2d56"
      },
      "source": [
        "print(dataset)"
      ],
      "execution_count": null,
      "outputs": [
        {
          "output_type": "stream",
          "text": [
            "                temp      soil  prep\n",
            "0                NaN       NaN   NaN\n",
            "1                NaN       NaN   NaN\n",
            "2                NaN       NaN   NaN\n",
            "3                NaN       NaN   NaN\n",
            "4                NaN       NaN   NaN\n",
            "...              ...       ...   ...\n",
            "45385195  243.099289  0.206098   0.0\n",
            "45385196  243.099289  0.206098   0.0\n",
            "45385197  243.099289  0.206098   0.0\n",
            "45385198  243.099289  0.206098   0.0\n",
            "45385199  243.099289  0.206098   0.0\n",
            "\n",
            "[45385200 rows x 3 columns]\n"
          ],
          "name": "stdout"
        }
      ]
    },
    {
      "cell_type": "markdown",
      "metadata": {
        "id": "dpLy21gmW96Y"
      },
      "source": [
        "Using Mice to fill the missing values"
      ]
    },
    {
      "cell_type": "code",
      "metadata": {
        "colab": {
          "base_uri": "https://localhost:8080/"
        },
        "id": "lISgknNrQnTT",
        "outputId": "41b554f0-5c70-42ea-925a-8db283e4093e"
      },
      "source": [
        "!pip install impyute"
      ],
      "execution_count": null,
      "outputs": [
        {
          "output_type": "stream",
          "text": [
            "Collecting impyute\n",
            "  Downloading https://files.pythonhosted.org/packages/37/28/86829f67c9affb847facaab94687761d3555539ec675f7577778c5b2680a/impyute-0.0.8-py2.py3-none-any.whl\n",
            "Requirement already satisfied: numpy in /usr/local/lib/python3.6/dist-packages (from impyute) (1.18.5)\n",
            "Requirement already satisfied: scipy in /usr/local/lib/python3.6/dist-packages (from impyute) (1.4.1)\n",
            "Requirement already satisfied: scikit-learn in /usr/local/lib/python3.6/dist-packages (from impyute) (0.22.2.post1)\n",
            "Requirement already satisfied: joblib>=0.11 in /usr/local/lib/python3.6/dist-packages (from scikit-learn->impyute) (0.17.0)\n",
            "Installing collected packages: impyute\n",
            "Successfully installed impyute-0.0.8\n"
          ],
          "name": "stdout"
        }
      ]
    },
    {
      "cell_type": "code",
      "metadata": {
        "id": "mjStaVfeQwuL"
      },
      "source": [
        "from impyute.imputation.cs import mice\n",
        "data = dataset.astype(float)\n",
        "dataset = mice(data.values)"
      ],
      "execution_count": null,
      "outputs": []
    },
    {
      "cell_type": "markdown",
      "metadata": {
        "id": "I1dD-w6lW_IZ"
      },
      "source": [
        "Since using mice is consuming more memory as compared to alloted one and showing error, so I am filling missing values with mean."
      ]
    },
    {
      "cell_type": "code",
      "metadata": {
        "id": "nFnsYKm7VFOI"
      },
      "source": [
        "mean = dataset['temp'].mean()\n",
        "dataset['temp'].fillna(mean, inplace=True) \n"
      ],
      "execution_count": null,
      "outputs": []
    },
    {
      "cell_type": "code",
      "metadata": {
        "id": "wgmubIZZXiuX"
      },
      "source": [
        "mean = dataset['soil'].mean()\n",
        "dataset['soil'].fillna(mean, inplace=True) "
      ],
      "execution_count": null,
      "outputs": []
    },
    {
      "cell_type": "code",
      "metadata": {
        "id": "6ejnq4KRXs7o"
      },
      "source": [
        "mean = dataset['prep'].mean()\n",
        "dataset['prep'].fillna(mean, inplace=True) "
      ],
      "execution_count": null,
      "outputs": []
    },
    {
      "cell_type": "code",
      "metadata": {
        "colab": {
          "base_uri": "https://localhost:8080/"
        },
        "id": "SCn6dnMBX5UQ",
        "outputId": "3e98a63e-f2de-4803-c03e-4781590982ea"
      },
      "source": [
        "dataset.isnull().sum()"
      ],
      "execution_count": null,
      "outputs": [
        {
          "output_type": "execute_result",
          "data": {
            "text/plain": [
              "temp    0\n",
              "soil    0\n",
              "prep    0\n",
              "dtype: int64"
            ]
          },
          "metadata": {
            "tags": []
          },
          "execution_count": 18
        }
      ]
    },
    {
      "cell_type": "markdown",
      "metadata": {
        "id": "vg2BOMorYhUY"
      },
      "source": [
        "Printing the dataset after filling in the missing values"
      ]
    },
    {
      "cell_type": "code",
      "metadata": {
        "colab": {
          "base_uri": "https://localhost:8080/"
        },
        "id": "bD9UsFX-YUTY",
        "outputId": "697a6b59-9d64-46b4-9529-e7574c2b1857"
      },
      "source": [
        "print(dataset)"
      ],
      "execution_count": null,
      "outputs": [
        {
          "output_type": "stream",
          "text": [
            "                temp      soil      prep\n",
            "0         260.213348  0.266105  0.012798\n",
            "1         260.213348  0.266105  0.012798\n",
            "2         260.213348  0.266105  0.012798\n",
            "3         260.213348  0.266105  0.012798\n",
            "4         260.213348  0.266105  0.012798\n",
            "...              ...       ...       ...\n",
            "45385195  243.099289  0.206098  0.000000\n",
            "45385196  243.099289  0.206098  0.000000\n",
            "45385197  243.099289  0.206098  0.000000\n",
            "45385198  243.099289  0.206098  0.000000\n",
            "45385199  243.099289  0.206098  0.000000\n",
            "\n",
            "[45385200 rows x 3 columns]\n"
          ],
          "name": "stdout"
        }
      ]
    },
    {
      "cell_type": "code",
      "metadata": {
        "id": "1kAnJfMq9Tf4"
      },
      "source": [
        "import torch\n",
        "import torch.nn as nn"
      ],
      "execution_count": null,
      "outputs": []
    },
    {
      "cell_type": "code",
      "metadata": {
        "id": "JWIssg-3Ymxa"
      },
      "source": [
        "X = dataset.iloc[:, :-1].values\n",
        "y = dataset.iloc[:, -1].values"
      ],
      "execution_count": null,
      "outputs": []
    },
    {
      "cell_type": "code",
      "metadata": {
        "colab": {
          "base_uri": "https://localhost:8080/"
        },
        "id": "VLxK0aNyYqY4",
        "outputId": "5ed3cfe5-e9ff-4eaa-d938-ea117b20cf27"
      },
      "source": [
        "print(X)"
      ],
      "execution_count": null,
      "outputs": [
        {
          "output_type": "stream",
          "text": [
            "[[2.6021335e+02 2.6610544e-01]\n",
            " [2.6021335e+02 2.6610544e-01]\n",
            " [2.6021335e+02 2.6610544e-01]\n",
            " ...\n",
            " [2.4309929e+02 2.0609809e-01]\n",
            " [2.4309929e+02 2.0609809e-01]\n",
            " [2.4309929e+02 2.0609809e-01]]\n"
          ],
          "name": "stdout"
        }
      ]
    },
    {
      "cell_type": "code",
      "metadata": {
        "colab": {
          "base_uri": "https://localhost:8080/"
        },
        "id": "yJztjh_7YtAS",
        "outputId": "2ff85ba2-67de-47fa-9ef8-309539417fdc"
      },
      "source": [
        "print(y)"
      ],
      "execution_count": null,
      "outputs": [
        {
          "output_type": "stream",
          "text": [
            "[0.01279823 0.01279823 0.01279823 ... 0.         0.         0.        ]\n"
          ],
          "name": "stdout"
        }
      ]
    },
    {
      "cell_type": "markdown",
      "metadata": {
        "id": "WXFiXQ_rZ7rz"
      },
      "source": [
        "Splitting dataset into **Train / Validation /Test** in **80/ 10/ 10** i.e 80% data to training, 10% to validation and 10% to test, as we have a large data so it can be spilt in this fashion."
      ]
    },
    {
      "cell_type": "code",
      "metadata": {
        "id": "aUmodUjh5IOz"
      },
      "source": [
        "# Importing library fot splitting\n",
        "from sklearn.model_selection import train_test_split"
      ],
      "execution_count": null,
      "outputs": []
    },
    {
      "cell_type": "code",
      "metadata": {
        "id": "TDiiy_ycCBxP"
      },
      "source": [
        "train_ratio = 0.80\n",
        "validation_ratio = 0.1\n",
        "test_ratio = 0.1\n",
        "\n",
        "# train is now 98% of the entire data set\n",
        "x_train, x_test, y_train, y_test = train_test_split(X, y, test_size=1 - train_ratio)\n",
        "\n",
        "# test is now 1% of the initial data set\n",
        "# validation is now 1% of the initial data set\n",
        "x_val, x_test, y_val, y_test = train_test_split(x_test, y_test, test_size=test_ratio/(test_ratio + validation_ratio)) \n"
      ],
      "execution_count": null,
      "outputs": []
    },
    {
      "cell_type": "code",
      "metadata": {
        "id": "-Zg9UeclZ86J"
      },
      "source": [
        "from sklearn.preprocessing import StandardScaler\n",
        "sc = StandardScaler()\n",
        "x_train = sc.fit_transform(x_train)\n",
        "x_val = sc.transform(x_val)\n",
        "x_test = sc.transform(x_test)"
      ],
      "execution_count": null,
      "outputs": []
    },
    {
      "cell_type": "code",
      "metadata": {
        "id": "d-LTNyt8-IYD"
      },
      "source": [
        "inputs = torch.from_numpy(x_train)\n",
        "targets = torch.from_numpy(y_train)"
      ],
      "execution_count": null,
      "outputs": []
    },
    {
      "cell_type": "code",
      "metadata": {
        "colab": {
          "base_uri": "https://localhost:8080/"
        },
        "id": "LHAuQlDs-X9b",
        "outputId": "b5287cd0-88e4-4e05-d631-95466b7f4e4d"
      },
      "source": [
        "inputs"
      ],
      "execution_count": null,
      "outputs": [
        {
          "output_type": "execute_result",
          "data": {
            "text/plain": [
              "tensor([[-0.2091,  0.0068],\n",
              "        [-1.0605,  0.6882],\n",
              "        [-0.2091,  0.0068],\n",
              "        ...,\n",
              "        [-0.2091,  0.0068],\n",
              "        [-0.2091,  0.0068],\n",
              "        [-0.2091,  0.0068]])"
            ]
          },
          "metadata": {
            "tags": []
          },
          "execution_count": 28
        }
      ]
    },
    {
      "cell_type": "code",
      "metadata": {
        "colab": {
          "base_uri": "https://localhost:8080/"
        },
        "id": "244KDZI4-aWg",
        "outputId": "984e695b-5fd4-4589-9405-c38b8287f226"
      },
      "source": [
        "targets"
      ],
      "execution_count": null,
      "outputs": [
        {
          "output_type": "execute_result",
          "data": {
            "text/plain": [
              "tensor([0.0128, 0.0163, 0.0128,  ..., 0.0128, 0.0128, 0.0128])"
            ]
          },
          "metadata": {
            "tags": []
          },
          "execution_count": 29
        }
      ]
    },
    {
      "cell_type": "code",
      "metadata": {
        "id": "17sCncri-cZR"
      },
      "source": [
        "from torch.utils.data import TensorDataset\n",
        "# Define dataset\n",
        "train_ds = TensorDataset(inputs, targets)"
      ],
      "execution_count": null,
      "outputs": []
    },
    {
      "cell_type": "code",
      "metadata": {
        "id": "IAqL_gYO-m2f"
      },
      "source": [
        "from torch.utils.data import DataLoader"
      ],
      "execution_count": null,
      "outputs": []
    },
    {
      "cell_type": "code",
      "metadata": {
        "id": "G0qwlaPD-pDR"
      },
      "source": [
        "# Define data loader\n",
        "batch_size = 1000\n",
        "train_dl = DataLoader(train_ds, batch_size, shuffle=True)"
      ],
      "execution_count": null,
      "outputs": []
    },
    {
      "cell_type": "markdown",
      "metadata": {
        "id": "wkPNGD2HG0Bk"
      },
      "source": [
        "Observation in a batch of **1000** and printing first batch"
      ]
    },
    {
      "cell_type": "code",
      "metadata": {
        "colab": {
          "base_uri": "https://localhost:8080/"
        },
        "id": "b-2ATO2P-_tG",
        "outputId": "37681217-4624-4927-c502-0c55231aff5a"
      },
      "source": [
        "for xb, yb in train_dl:\n",
        "    print(xb)\n",
        "    print(yb)\n",
        "    break"
      ],
      "execution_count": null,
      "outputs": [
        {
          "output_type": "stream",
          "text": [
            "tensor([[-1.1914,  4.4760],\n",
            "        [ 1.2274,  2.2828],\n",
            "        [ 0.9368,  1.8149],\n",
            "        ...,\n",
            "        [ 2.0538, -2.5418],\n",
            "        [-0.2091,  0.0068],\n",
            "        [-0.2091,  0.0068]])\n",
            "tensor([0.0051, 0.0058, 0.0159, 0.0128, 0.0056, 0.0128, 0.0213, 0.0128, 0.0128,\n",
            "        0.0128, 0.0128, 0.0128, 0.0128, 0.0128, 0.0123, 0.0000, 0.0128, 0.0128,\n",
            "        0.0054, 0.0128, 0.0628, 0.0128, 0.0128, 0.0128, 0.0128, 0.0128, 0.0128,\n",
            "        0.0128, 0.0128, 0.0128, 0.0000, 0.0128, 0.0128, 0.0000, 0.0128, 0.0128,\n",
            "        0.0000, 0.0128, 0.0000, 0.0128, 0.0000, 0.0143, 0.0000, 0.0128, 0.0128,\n",
            "        0.0128, 0.0128, 0.0128, 0.0128, 0.0128, 0.0095, 0.0128, 0.0128, 0.0128,\n",
            "        0.0128, 0.0128, 0.0000, 0.0128, 0.0163, 0.0000, 0.0000, 0.0101, 0.0128,\n",
            "        0.0128, 0.0128, 0.0128, 0.0128, 0.0016, 0.0128, 0.0128, 0.0128, 0.0046,\n",
            "        0.0128, 0.0128, 0.0128, 0.0528, 0.0128, 0.0128, 0.0274, 0.0128, 0.0128,\n",
            "        0.0128, 0.0000, 0.0190, 0.0081, 0.0054, 0.0016, 0.0000, 0.0128, 0.0000,\n",
            "        0.0247, 0.0128, 0.0128, 0.0000, 0.0000, 0.0128, 0.0128, 0.0016, 0.0128,\n",
            "        0.0128, 0.0128, 0.0128, 0.0036, 0.0128, 0.0036, 0.0128, 0.0246, 0.0128,\n",
            "        0.0128, 0.0032, 0.0128, 0.0128, 0.0128, 0.0081, 0.0128, 0.0000, 0.0128,\n",
            "        0.0128, 0.0000, 0.0128, 0.0128, 0.0128, 0.0128, 0.0128, 0.0128, 0.0128,\n",
            "        0.0244, 0.0128, 0.0269, 0.0000, 0.0128, 0.0128, 0.0128, 0.0128, 0.0128,\n",
            "        0.0128, 0.0128, 0.0592, 0.0128, 0.0128, 0.0128, 0.0119, 0.0128, 0.0060,\n",
            "        0.0000, 0.0128, 0.0128, 0.0128, 0.0262, 0.0128, 0.0128, 0.0128, 0.0128,\n",
            "        0.0128, 0.0128, 0.0128, 0.0128, 0.0000, 0.0000, 0.0128, 0.0128, 0.0172,\n",
            "        0.0128, 0.0128, 0.0054, 0.0128, 0.0128, 0.0128, 0.0443, 0.0128, 0.0128,\n",
            "        0.0128, 0.0000, 0.0128, 0.0128, 0.0128, 0.0128, 0.0000, 0.0128, 0.0286,\n",
            "        0.0128, 0.0128, 0.0128, 0.0128, 0.0128, 0.0128, 0.0000, 0.0128, 0.0128,\n",
            "        0.0128, 0.0128, 0.0128, 0.0128, 0.0028, 0.0128, 0.0128, 0.0128, 0.0000,\n",
            "        0.0036, 0.0128, 0.0128, 0.0000, 0.0128, 0.0128, 0.0062, 0.0000, 0.0128,\n",
            "        0.0128, 0.0128, 0.0156, 0.0128, 0.0128, 0.0510, 0.0128, 0.0299, 0.0224,\n",
            "        0.0128, 0.0128, 0.0128, 0.0128, 0.0128, 0.0128, 0.0128, 0.0128, 0.0128,\n",
            "        0.0128, 0.0253, 0.0128, 0.0000, 0.0128, 0.0128, 0.0128, 0.0062, 0.0387,\n",
            "        0.0128, 0.0128, 0.0128, 0.0128, 0.0128, 0.0128, 0.0000, 0.0128, 0.0128,\n",
            "        0.0128, 0.0128, 0.0128, 0.0128, 0.0128, 0.0128, 0.0128, 0.0128, 0.0028,\n",
            "        0.0128, 0.0070, 0.0128, 0.0128, 0.0128, 0.0000, 0.0128, 0.0128, 0.0128,\n",
            "        0.0128, 0.0000, 0.0128, 0.0036, 0.0128, 0.0000, 0.0459, 0.0000, 0.0128,\n",
            "        0.0128, 0.0181, 0.0128, 0.0128, 0.0077, 0.0128, 0.0128, 0.0128, 0.0000,\n",
            "        0.0000, 0.0000, 0.0128, 0.0128, 0.0128, 0.0091, 0.0128, 0.0128, 0.0128,\n",
            "        0.0128, 0.1376, 0.0136, 0.0128, 0.0000, 0.0128, 0.0128, 0.0128, 0.0128,\n",
            "        0.0128, 0.0128, 0.0128, 0.0000, 0.0000, 0.0272, 0.0128, 0.0128, 0.0000,\n",
            "        0.0128, 0.0130, 0.0257, 0.0128, 0.0000, 0.0128, 0.0000, 0.0128, 0.0128,\n",
            "        0.0128, 0.0294, 0.0128, 0.0128, 0.0000, 0.0016, 0.0128, 0.0282, 0.0128,\n",
            "        0.0128, 0.0128, 0.0128, 0.0128, 0.0128, 0.0000, 0.0016, 0.0269, 0.0128,\n",
            "        0.0604, 0.0128, 0.0088, 0.0128, 0.0128, 0.0187, 0.0097, 0.0000, 0.0128,\n",
            "        0.0128, 0.0128, 0.0128, 0.0128, 0.0128, 0.0789, 0.0128, 0.0624, 0.0000,\n",
            "        0.0380, 0.0128, 0.0338, 0.0128, 0.0128, 0.0128, 0.0000, 0.0128, 0.0128,\n",
            "        0.0000, 0.0000, 0.0128, 0.0128, 0.0128, 0.0128, 0.0128, 0.0000, 0.0128,\n",
            "        0.0128, 0.0128, 0.0000, 0.0132, 0.0128, 0.0128, 0.0128, 0.0128, 0.0111,\n",
            "        0.0128, 0.0128, 0.0128, 0.0128, 0.0000, 0.0000, 0.0128, 0.0128, 0.0128,\n",
            "        0.0128, 0.0128, 0.0635, 0.0128, 0.0016, 0.0128, 0.0128, 0.0128, 0.0128,\n",
            "        0.0060, 0.0000, 0.0000, 0.0128, 0.0128, 0.0331, 0.0128, 0.0180, 0.0404,\n",
            "        0.0043, 0.0128, 0.0500, 0.0000, 0.0187, 0.0128, 0.0128, 0.0128, 0.0128,\n",
            "        0.0000, 0.0000, 0.0128, 0.0128, 0.0306, 0.0195, 0.0016, 0.0128, 0.0000,\n",
            "        0.0128, 0.0375, 0.0000, 0.0128, 0.0128, 0.0128, 0.0128, 0.0128, 0.0056,\n",
            "        0.0000, 0.0051, 0.0128, 0.0410, 0.0128, 0.0128, 0.0128, 0.0128, 0.0128,\n",
            "        0.0000, 0.0128, 0.1106, 0.0128, 0.0128, 0.0028, 0.0000, 0.0062, 0.0088,\n",
            "        0.0128, 0.0128, 0.0128, 0.0000, 0.0128, 0.0128, 0.0128, 0.0243, 0.0128,\n",
            "        0.0000, 0.0000, 0.0000, 0.0128, 0.0128, 0.0128, 0.0128, 0.0000, 0.0023,\n",
            "        0.0128, 0.0128, 0.0128, 0.0032, 0.0062, 0.0048, 0.0072, 0.0128, 0.0128,\n",
            "        0.0128, 0.0128, 0.0869, 0.0128, 0.0128, 0.0128, 0.0128, 0.0128, 0.0128,\n",
            "        0.0128, 0.0219, 0.0128, 0.0128, 0.0550, 0.0128, 0.0128, 0.0128, 0.0128,\n",
            "        0.0128, 0.0291, 0.0128, 0.0162, 0.0128, 0.0128, 0.0128, 0.0128, 0.0128,\n",
            "        0.0000, 0.0128, 0.0128, 0.0128, 0.0128, 0.0128, 0.0000, 0.0174, 0.0128,\n",
            "        0.0128, 0.0128, 0.0128, 0.0128, 0.0000, 0.0128, 0.0128, 0.0128, 0.0000,\n",
            "        0.0128, 0.0128, 0.0128, 0.0128, 0.0128, 0.0128, 0.0128, 0.0128, 0.0128,\n",
            "        0.0116, 0.0128, 0.0128, 0.0000, 0.0128, 0.0000, 0.0000, 0.0056, 0.0128,\n",
            "        0.0028, 0.0128, 0.0187, 0.0128, 0.0128, 0.0128, 0.0128, 0.0128, 0.0128,\n",
            "        0.0128, 0.0000, 0.0128, 0.0000, 0.0128, 0.0016, 0.0128, 0.0187, 0.0128,\n",
            "        0.0235, 0.0128, 0.0128, 0.0128, 0.0128, 0.0076, 0.0128, 0.0128, 0.0128,\n",
            "        0.0128, 0.0128, 0.0128, 0.0128, 0.0079, 0.0773, 0.0101, 0.0128, 0.0128,\n",
            "        0.0128, 0.0128, 0.0128, 0.0128, 0.0128, 0.0023, 0.0128, 0.0043, 0.0128,\n",
            "        0.0128, 0.0128, 0.0128, 0.0128, 0.0128, 0.0128, 0.0128, 0.0128, 0.0128,\n",
            "        0.0000, 0.0128, 0.0081, 0.0128, 0.0000, 0.0128, 0.0128, 0.0000, 0.0128,\n",
            "        0.0128, 0.0128, 0.0128, 0.0376, 0.0128, 0.0128, 0.0128, 0.0128, 0.0128,\n",
            "        0.0381, 0.0128, 0.0128, 0.0000, 0.0128, 0.0128, 0.0128, 0.0128, 0.0128,\n",
            "        0.0056, 0.0128, 0.0128, 0.0128, 0.0132, 0.0128, 0.0094, 0.0128, 0.0128,\n",
            "        0.0128, 0.0128, 0.0028, 0.0128, 0.0054, 0.0128, 0.0128, 0.0307, 0.0016,\n",
            "        0.0028, 0.0058, 0.0128, 0.0000, 0.0385, 0.0185, 0.0128, 0.0128, 0.0000,\n",
            "        0.0128, 0.0128, 0.0128, 0.0000, 0.0229, 0.0128, 0.0128, 0.0000, 0.0128,\n",
            "        0.0128, 0.0124, 0.0128, 0.0128, 0.0000, 0.0000, 0.0128, 0.0463, 0.0117,\n",
            "        0.0128, 0.0128, 0.0000, 0.0128, 0.0016, 0.0128, 0.0128, 0.0128, 0.0128,\n",
            "        0.0000, 0.0128, 0.0128, 0.0088, 0.0128, 0.0040, 0.0128, 0.0128, 0.0032,\n",
            "        0.0128, 0.0046, 0.0056, 0.0128, 0.0000, 0.0128, 0.0000, 0.0000, 0.0128,\n",
            "        0.0128, 0.0000, 0.0028, 0.0000, 0.0000, 0.0128, 0.0128, 0.0128, 0.0128,\n",
            "        0.0128, 0.0090, 0.0128, 0.0128, 0.0000, 0.0161, 0.0128, 0.0016, 0.0128,\n",
            "        0.0128, 0.0067, 0.0032, 0.0128, 0.0351, 0.0128, 0.0079, 0.0098, 0.0128,\n",
            "        0.0128, 0.0128, 0.0000, 0.1067, 0.0128, 0.0128, 0.0128, 0.0128, 0.0128,\n",
            "        0.0043, 0.0128, 0.0145, 0.0000, 0.0128, 0.0000, 0.0128, 0.0128, 0.0128,\n",
            "        0.0128, 0.0128, 0.0128, 0.0128, 0.0128, 0.0128, 0.0128, 0.0000, 0.0128,\n",
            "        0.0000, 0.0128, 0.0128, 0.0000, 0.0000, 0.0128, 0.0128, 0.0128, 0.0084,\n",
            "        0.0128, 0.0067, 0.0036, 0.0128, 0.0128, 0.0217, 0.0128, 0.0000, 0.0114,\n",
            "        0.0128, 0.0000, 0.0128, 0.0999, 0.0128, 0.0000, 0.0128, 0.0128, 0.0150,\n",
            "        0.0128, 0.0146, 0.0128, 0.0000, 0.0128, 0.0128, 0.0128, 0.0032, 0.0546,\n",
            "        0.0128, 0.0128, 0.0128, 0.0128, 0.0444, 0.0000, 0.0128, 0.0128, 0.0128,\n",
            "        0.0338, 0.0128, 0.0128, 0.0128, 0.0128, 0.0128, 0.0000, 0.0128, 0.0157,\n",
            "        0.0128, 0.0128, 0.0128, 0.0016, 0.0128, 0.0000, 0.0128, 0.0128, 0.0128,\n",
            "        0.0128, 0.0128, 0.0067, 0.0000, 0.0094, 0.0128, 0.0128, 0.0036, 0.0128,\n",
            "        0.0128, 0.0255, 0.0128, 0.0128, 0.0000, 0.0128, 0.0128, 0.0128, 0.0128,\n",
            "        0.0956, 0.0128, 0.0128, 0.0128, 0.0128, 0.0128, 0.0076, 0.0599, 0.0000,\n",
            "        0.0228, 0.0056, 0.0128, 0.0128, 0.0215, 0.0494, 0.0077, 0.0470, 0.0128,\n",
            "        0.0128, 0.0000, 0.0128, 0.0048, 0.0000, 0.0299, 0.0128, 0.0128, 0.0128,\n",
            "        0.0128, 0.0128, 0.0128, 0.0128, 0.0101, 0.0191, 0.0128, 0.0128, 0.0128,\n",
            "        0.0128, 0.0106, 0.0128, 0.0128, 0.0128, 0.0023, 0.0170, 0.0128, 0.0128,\n",
            "        0.0028, 0.0128, 0.0128, 0.0129, 0.0128, 0.0023, 0.0128, 0.0128, 0.0233,\n",
            "        0.0128, 0.0000, 0.0128, 0.0128, 0.0054, 0.0000, 0.0128, 0.0000, 0.0000,\n",
            "        0.0000, 0.0128, 0.0128, 0.0128, 0.0614, 0.0000, 0.0000, 0.0128, 0.0023,\n",
            "        0.0128, 0.0128, 0.0128, 0.0128, 0.0128, 0.0128, 0.0128, 0.0269, 0.0128,\n",
            "        0.0128, 0.0128, 0.0000, 0.0000, 0.0128, 0.0128, 0.0128, 0.0128, 0.0128,\n",
            "        0.0128, 0.0128, 0.0128, 0.0128, 0.0128, 0.0128, 0.0128, 0.0023, 0.0128,\n",
            "        0.0128, 0.0124, 0.0128, 0.0128, 0.0000, 0.0128, 0.0128, 0.0128, 0.0330,\n",
            "        0.0128, 0.0128, 0.0128, 0.0457, 0.0128, 0.0000, 0.0128, 0.0128, 0.0128,\n",
            "        0.0128, 0.0128, 0.0128, 0.0094, 0.0128, 0.0128, 0.0128, 0.0016, 0.0128,\n",
            "        0.0128, 0.0000, 0.0295, 0.0128, 0.0000, 0.0128, 0.0128, 0.0016, 0.0000,\n",
            "        0.0277, 0.0128, 0.0000, 0.0128, 0.0128, 0.0128, 0.0046, 0.0128, 0.0128,\n",
            "        0.0128, 0.0051, 0.0330, 0.0128, 0.0128, 0.0000, 0.0000, 0.0128, 0.0128,\n",
            "        0.0128, 0.0000, 0.0000, 0.0128, 0.0081, 0.0128, 0.0000, 0.0128, 0.0128,\n",
            "        0.0000, 0.0000, 0.0128, 0.0128, 0.0128, 0.0000, 0.0128, 0.0000, 0.0128,\n",
            "        0.0128])\n"
          ],
          "name": "stdout"
        }
      ]
    },
    {
      "cell_type": "code",
      "metadata": {
        "colab": {
          "base_uri": "https://localhost:8080/"
        },
        "id": "hzDDqcg4_Jv5",
        "outputId": "8bc2ef72-e4e5-4059-fadb-112b601f73f0"
      },
      "source": [
        "# Define model\n",
        "model = nn.Linear(2, 1)\n",
        "print(model.weight)\n",
        "print(model.bias)"
      ],
      "execution_count": null,
      "outputs": [
        {
          "output_type": "stream",
          "text": [
            "Parameter containing:\n",
            "tensor([[ 0.1509, -0.5993]], requires_grad=True)\n",
            "Parameter containing:\n",
            "tensor([0.3903], requires_grad=True)\n"
          ],
          "name": "stdout"
        }
      ]
    },
    {
      "cell_type": "code",
      "metadata": {
        "colab": {
          "base_uri": "https://localhost:8080/"
        },
        "id": "upuc4VKa_asd",
        "outputId": "03d7ba27-55b2-4253-b6a4-8cfe86296fe7"
      },
      "source": [
        "# Parameters\n",
        "list(model.parameters())"
      ],
      "execution_count": null,
      "outputs": [
        {
          "output_type": "execute_result",
          "data": {
            "text/plain": [
              "[Parameter containing:\n",
              " tensor([[ 0.1509, -0.5993]], requires_grad=True), Parameter containing:\n",
              " tensor([0.3903], requires_grad=True)]"
            ]
          },
          "metadata": {
            "tags": []
          },
          "execution_count": 37
        }
      ]
    },
    {
      "cell_type": "code",
      "metadata": {
        "colab": {
          "base_uri": "https://localhost:8080/"
        },
        "id": "vB_wlR4o_d_Y",
        "outputId": "ae8d899f-3142-40b9-d4ae-baaef767c41f"
      },
      "source": [
        "# Generate predictions\n",
        "preds = model(inputs)\n",
        "preds"
      ],
      "execution_count": null,
      "outputs": [
        {
          "output_type": "execute_result",
          "data": {
            "text/plain": [
              "tensor([[ 0.3547],\n",
              "        [-0.1821],\n",
              "        [ 0.3547],\n",
              "        ...,\n",
              "        [ 0.3547],\n",
              "        [ 0.3547],\n",
              "        [ 0.3547]], grad_fn=<AddmmBackward>)"
            ]
          },
          "metadata": {
            "tags": []
          },
          "execution_count": 38
        }
      ]
    },
    {
      "cell_type": "markdown",
      "metadata": {
        "id": "fkM39q6J_i3C"
      },
      "source": [
        "Loss Function"
      ]
    },
    {
      "cell_type": "code",
      "metadata": {
        "id": "yinalRA8_lZj"
      },
      "source": [
        "# Import nn.functional\n",
        "import torch.nn.functional as F\n",
        "# Define loss function\n",
        "loss_fn = F.mse_loss"
      ],
      "execution_count": null,
      "outputs": []
    },
    {
      "cell_type": "code",
      "metadata": {
        "colab": {
          "base_uri": "https://localhost:8080/"
        },
        "id": "O6BKl4rOD8Qx",
        "outputId": "c4ce1ffd-64e5-4328-a6e5-3ce5a77b255e"
      },
      "source": [
        "targets.shape"
      ],
      "execution_count": null,
      "outputs": [
        {
          "output_type": "execute_result",
          "data": {
            "text/plain": [
              "torch.Size([36308160])"
            ]
          },
          "metadata": {
            "tags": []
          },
          "execution_count": 44
        }
      ]
    },
    {
      "cell_type": "code",
      "metadata": {
        "id": "8MJG7MejEF-H"
      },
      "source": [
        "temp = targets.reshape(len(targets), 1)"
      ],
      "execution_count": null,
      "outputs": []
    },
    {
      "cell_type": "code",
      "metadata": {
        "colab": {
          "base_uri": "https://localhost:8080/"
        },
        "id": "94LvO4ftEMmB",
        "outputId": "70a4b86d-79c9-4671-a6e8-f3206105f9d9"
      },
      "source": [
        "temp.shape"
      ],
      "execution_count": null,
      "outputs": [
        {
          "output_type": "execute_result",
          "data": {
            "text/plain": [
              "torch.Size([36308160, 1])"
            ]
          },
          "metadata": {
            "tags": []
          },
          "execution_count": 47
        }
      ]
    },
    {
      "cell_type": "code",
      "metadata": {
        "colab": {
          "base_uri": "https://localhost:8080/"
        },
        "id": "zAMT6bAo_pYo",
        "outputId": "4ea88841-6135-4934-a36a-3c8fdb3ceb84"
      },
      "source": [
        "loss = loss_fn(preds, temp)\n",
        "print('The inital loss is', loss.item())"
      ],
      "execution_count": null,
      "outputs": [
        {
          "output_type": "stream",
          "text": [
            "The inital loss is 0.000552099256310612\n"
          ],
          "name": "stdout"
        }
      ]
    },
    {
      "cell_type": "markdown",
      "metadata": {
        "id": "a_yyJV4tE9_n"
      },
      "source": [
        "## Optimize"
      ]
    },
    {
      "cell_type": "code",
      "metadata": {
        "id": "fMF3QfeeE9Di"
      },
      "source": [
        "# Define optimizer\n",
        "opt = torch.optim.SGD(model.parameters(), lr=1e-5)"
      ],
      "execution_count": null,
      "outputs": []
    },
    {
      "cell_type": "markdown",
      "metadata": {
        "id": "Sf1omxFfFCm5"
      },
      "source": [
        "## Train the model"
      ]
    },
    {
      "cell_type": "code",
      "metadata": {
        "id": "gd2L6L_EFEaw"
      },
      "source": [
        "# Utility function to train the model\n",
        "def fit(num_epochs, model, loss_fn, opt, train_dl):\n",
        "    \n",
        "    # Repeat for given number of epochs\n",
        "    for epoch in range(num_epochs):\n",
        "        \n",
        "        # Train with batches of data\n",
        "        for xb,yb in train_dl:\n",
        "            \n",
        "            # 1. Generate predictions\n",
        "            pred = model(xb)\n",
        "            \n",
        "            temp = yb.reshape(len(yb), 1)\n",
        "            \n",
        "            # 2. Calculate loss\n",
        "            loss = loss_fn(pred, temp)\n",
        "            \n",
        "            # 3. Compute gradients\n",
        "            loss.backward()\n",
        "            \n",
        "            # 4. Update parameters using gradients\n",
        "            opt.step()\n",
        "            \n",
        "            # 5. Reset the gradients to zero\n",
        "            opt.zero_grad()\n",
        "        \n",
        "        # Print the progress\n",
        "        print('Epoch [{}/{}], Loss: {:}'.format(epoch+1, num_epochs, loss.item()))\n",
        "        print(loss)"
      ],
      "execution_count": null,
      "outputs": []
    },
    {
      "cell_type": "code",
      "metadata": {
        "colab": {
          "base_uri": "https://localhost:8080/"
        },
        "id": "Tfp7twAZFefu",
        "outputId": "ba4004e4-1194-4fce-c45f-6282d0615c2a"
      },
      "source": [
        "fit(5, model, loss_fn, opt, train_dl)"
      ],
      "execution_count": null,
      "outputs": [
        {
          "output_type": "stream",
          "text": [
            "Epoch [1/5], Loss: 0.11125870794057846\n",
            "tensor(0.1113, grad_fn=<MseLossBackward>)\n",
            "Epoch [2/5], Loss: 0.02409730851650238\n",
            "tensor(0.0241, grad_fn=<MseLossBackward>)\n",
            "Epoch [3/5], Loss: 0.007241903804242611\n",
            "tensor(0.0072, grad_fn=<MseLossBackward>)\n",
            "Epoch [4/5], Loss: 0.0016955171013250947\n",
            "tensor(0.0017, grad_fn=<MseLossBackward>)\n",
            "Epoch [5/5], Loss: 0.00046997639583423734\n",
            "tensor(0.0005, grad_fn=<MseLossBackward>)\n"
          ],
          "name": "stdout"
        }
      ]
    },
    {
      "cell_type": "markdown",
      "metadata": {
        "id": "DaxPQxdqj--Z"
      },
      "source": [
        "On each epoch the model has improved significantly"
      ]
    },
    {
      "cell_type": "code",
      "metadata": {
        "colab": {
          "base_uri": "https://localhost:8080/"
        },
        "id": "W9Cgdyt0TspU",
        "outputId": "92924b63-46c2-4249-af6d-983ee27b4933"
      },
      "source": [
        "# Generate predictions\n",
        "preds = model(inputs)\n",
        "preds"
      ],
      "execution_count": null,
      "outputs": [
        {
          "output_type": "execute_result",
          "data": {
            "text/plain": [
              "tensor([[0.0236],\n",
              "        [0.0188],\n",
              "        [0.0236],\n",
              "        ...,\n",
              "        [0.0236],\n",
              "        [0.0236],\n",
              "        [0.0236]], grad_fn=<AddmmBackward>)"
            ]
          },
          "metadata": {
            "tags": []
          },
          "execution_count": 53
        }
      ]
    },
    {
      "cell_type": "code",
      "metadata": {
        "colab": {
          "base_uri": "https://localhost:8080/"
        },
        "id": "Q3if0Y-MTxJS",
        "outputId": "f81aabfd-f2a7-480c-8a95-403c59ef83b1"
      },
      "source": [
        "# Compare with targets\n",
        "targets"
      ],
      "execution_count": null,
      "outputs": [
        {
          "output_type": "execute_result",
          "data": {
            "text/plain": [
              "tensor([0.0128, 0.0163, 0.0128,  ..., 0.0128, 0.0128, 0.0128])"
            ]
          },
          "metadata": {
            "tags": []
          },
          "execution_count": 54
        }
      ]
    },
    {
      "cell_type": "code",
      "metadata": {
        "colab": {
          "base_uri": "https://localhost:8080/"
        },
        "id": "6eALJQeJNAiI",
        "outputId": "e2c37ddb-575e-4a4a-902d-4b2fda8613b0"
      },
      "source": [
        "temp = targets.reshape(len(targets), 1)\n",
        "            \n",
        "# 2. Calculate loss\n",
        "loss = loss_fn(preds, temp)\n",
        "print('mean squared error is',loss.item())\n",
        "print(np.sqrt(loss.item()))"
      ],
      "execution_count": null,
      "outputs": [
        {
          "output_type": "stream",
          "text": [
            "mean squared error is 0.000552099256310612\n",
            "0.023496792468560724\n"
          ],
          "name": "stdout"
        }
      ]
    },
    {
      "cell_type": "markdown",
      "metadata": {
        "id": "X_kJWLB2kmaK"
      },
      "source": [
        "The mean squared error of the train dataset is **0.00055**. On average each prediction differs from the actual target by about **0.0234**"
      ]
    },
    {
      "cell_type": "markdown",
      "metadata": {
        "id": "vmHEYK4Pg6_h"
      },
      "source": [
        "### Testing validation set"
      ]
    },
    {
      "cell_type": "code",
      "metadata": {
        "id": "ZyjsWFk4gEzr"
      },
      "source": [
        "inputs_val = torch.from_numpy(x_val)\n",
        "targets_val = torch.from_numpy(y_val)"
      ],
      "execution_count": null,
      "outputs": []
    },
    {
      "cell_type": "code",
      "metadata": {
        "id": "881zeGaQhBtK"
      },
      "source": [
        "pred_val = model(inputs_val)"
      ],
      "execution_count": null,
      "outputs": []
    },
    {
      "cell_type": "code",
      "metadata": {
        "colab": {
          "base_uri": "https://localhost:8080/"
        },
        "id": "SSQxG83VhNI2",
        "outputId": "2099e5aa-7e0d-403a-e41d-8960bddecc2c"
      },
      "source": [
        "pred_val"
      ],
      "execution_count": null,
      "outputs": [
        {
          "output_type": "execute_result",
          "data": {
            "text/plain": [
              "tensor([[ 0.0245],\n",
              "        [ 0.0236],\n",
              "        [ 0.0236],\n",
              "        ...,\n",
              "        [ 0.0236],\n",
              "        [-0.0096],\n",
              "        [ 0.0236]], grad_fn=<AddmmBackward>)"
            ]
          },
          "metadata": {
            "tags": []
          },
          "execution_count": 78
        }
      ]
    },
    {
      "cell_type": "code",
      "metadata": {
        "colab": {
          "base_uri": "https://localhost:8080/"
        },
        "id": "7mkQDdWihQDK",
        "outputId": "1b01a3df-5143-4ad7-c4dd-8e7571f6d9d2"
      },
      "source": [
        "targets_val"
      ],
      "execution_count": null,
      "outputs": [
        {
          "output_type": "execute_result",
          "data": {
            "text/plain": [
              "tensor([0.0032, 0.0128, 0.0128,  ..., 0.0128, 0.0541, 0.0128])"
            ]
          },
          "metadata": {
            "tags": []
          },
          "execution_count": 79
        }
      ]
    },
    {
      "cell_type": "code",
      "metadata": {
        "colab": {
          "base_uri": "https://localhost:8080/"
        },
        "id": "yfCciTwkhUeC",
        "outputId": "2dd4bc9a-58cc-4576-b173-617fc6d2a0fe"
      },
      "source": [
        "temp1 = targets_val.reshape(len(targets_val), 1)\n",
        "            \n",
        "# 2. Calculate loss\n",
        "loss = loss_fn(pred_val, temp1)\n",
        "print(loss.item())\n",
        "print(np.sqrt(loss.item()))"
      ],
      "execution_count": null,
      "outputs": [
        {
          "output_type": "stream",
          "text": [
            "0.0005507125752046704\n",
            "0.02346726603600578\n"
          ],
          "name": "stdout"
        }
      ]
    },
    {
      "cell_type": "markdown",
      "metadata": {
        "id": "Fs_leHOtk1al"
      },
      "source": [
        "The mean squared error of the validation set is **0.0005507**, which is similar as compared to the trained model. The prediciton differs from the actual values by about **0.0235**(on average) which compared with the actual values it is not performing well."
      ]
    },
    {
      "cell_type": "markdown",
      "metadata": {
        "id": "2mc3YTZmmtt6"
      },
      "source": [
        "# Model with a hidden layer "
      ]
    },
    {
      "cell_type": "markdown",
      "metadata": {
        "id": "pYMCd4qanLSx"
      },
      "source": [
        "The performance of the model can be improved with the inclusion of hidden layer"
      ]
    },
    {
      "cell_type": "code",
      "metadata": {
        "id": "0LX86KMzm16z"
      },
      "source": [
        "class Net(torch.nn.Module):\n",
        "    def __init__(self, n_feature, n_hidden, n_output):\n",
        "        super(Net, self).__init__()\n",
        "        self.hidden = torch.nn.Linear(n_feature, n_hidden)   # hidden layer\n",
        "        self.predict = torch.nn.Linear(n_hidden, n_output)   # output layer\n",
        "\n",
        "    def forward(self, x):\n",
        "        x = F.relu(self.hidden(x))      # activation function for hidden layer\n",
        "        x = self.predict(x)             # linear output\n",
        "        return x"
      ],
      "execution_count": null,
      "outputs": []
    },
    {
      "cell_type": "markdown",
      "metadata": {
        "id": "K5AQT1qopPQE"
      },
      "source": [
        "Here I have used rectified linear function as the activation function. As relu function is capable of reporting zero values which are negative. Hence provide a sparse representation and is desirable as it can accelerate learning and simplify the model."
      ]
    },
    {
      "cell_type": "code",
      "metadata": {
        "id": "qpFctOhnnfdQ"
      },
      "source": [
        "net = Net(n_feature=2, n_hidden=5, n_output=1) "
      ],
      "execution_count": null,
      "outputs": []
    },
    {
      "cell_type": "code",
      "metadata": {
        "colab": {
          "base_uri": "https://localhost:8080/"
        },
        "id": "MvDP9BlTnuKO",
        "outputId": "fdba67a5-7584-45c5-acef-847dcb990562"
      },
      "source": [
        "fit(5, net, loss_fn, opt, train_dl)"
      ],
      "execution_count": null,
      "outputs": [
        {
          "output_type": "stream",
          "text": [
            "Epoch [1/5], Loss: 0.6588041186332703\n",
            "tensor(0.6588, grad_fn=<MseLossBackward>)\n",
            "Epoch [2/5], Loss: 0.643675684928894\n",
            "tensor(0.6437, grad_fn=<MseLossBackward>)\n",
            "Epoch [3/5], Loss: 0.6625985503196716\n",
            "tensor(0.6626, grad_fn=<MseLossBackward>)\n",
            "Epoch [4/5], Loss: 0.7286423444747925\n",
            "tensor(0.7286, grad_fn=<MseLossBackward>)\n",
            "Epoch [5/5], Loss: 0.6853386163711548\n",
            "tensor(0.6853, grad_fn=<MseLossBackward>)\n"
          ],
          "name": "stdout"
        }
      ]
    },
    {
      "cell_type": "markdown",
      "metadata": {
        "id": "BeLvF-2zyTKE"
      },
      "source": [
        "So the model trained above is not trained well enough. The loss has decreased as well as increased. It is probably because I have use relu activation function.\n",
        "\n",
        "Relu function reports the negative values as zero, therefore makes its a sparse representation and would be switching off the hidden layer neurons while training it. Also I have scaled the dataset whose values is between -1 and 1, as result not much information reflected is by the neurons for the model to learn."
      ]
    },
    {
      "cell_type": "markdown",
      "metadata": {
        "id": "tBHmZPhE0KSy"
      },
      "source": [
        "## Training validation model"
      ]
    },
    {
      "cell_type": "code",
      "metadata": {
        "id": "XljBYLs70NRr"
      },
      "source": [
        "inputs_val = torch.from_numpy(x_val)\n",
        "targets_val = torch.from_numpy(y_val)"
      ],
      "execution_count": null,
      "outputs": []
    },
    {
      "cell_type": "code",
      "metadata": {
        "id": "oanJTnzl0NRr"
      },
      "source": [
        "prednew_val = net(inputs_val)"
      ],
      "execution_count": null,
      "outputs": []
    },
    {
      "cell_type": "code",
      "metadata": {
        "colab": {
          "base_uri": "https://localhost:8080/"
        },
        "id": "hF0VmB5H0NRs",
        "outputId": "114fcb54-f7d8-4876-ea8a-42582eb9d341"
      },
      "source": [
        "prednew_val"
      ],
      "execution_count": null,
      "outputs": [
        {
          "output_type": "execute_result",
          "data": {
            "text/plain": [
              "tensor([[-1.2961],\n",
              "        [-0.7494],\n",
              "        [-0.7494],\n",
              "        ...,\n",
              "        [-0.7494],\n",
              "        [-1.2137],\n",
              "        [-0.7494]], grad_fn=<AddmmBackward>)"
            ]
          },
          "metadata": {
            "tags": []
          },
          "execution_count": 98
        }
      ]
    },
    {
      "cell_type": "code",
      "metadata": {
        "colab": {
          "base_uri": "https://localhost:8080/"
        },
        "id": "n4jwa_qh0NRv",
        "outputId": "a6cf47a1-d53f-4b87-b288-a987bcb5b5ec"
      },
      "source": [
        "targets_val"
      ],
      "execution_count": null,
      "outputs": [
        {
          "output_type": "execute_result",
          "data": {
            "text/plain": [
              "tensor([0.0032, 0.0128, 0.0128,  ..., 0.0128, 0.0541, 0.0128])"
            ]
          },
          "metadata": {
            "tags": []
          },
          "execution_count": 99
        }
      ]
    },
    {
      "cell_type": "code",
      "metadata": {
        "colab": {
          "base_uri": "https://localhost:8080/"
        },
        "id": "0N-RckB1JwcO",
        "outputId": "8d13674c-bf3a-4db4-e167-c36ca9418a7b"
      },
      "source": [
        "temp1 = targets_val.reshape(len(targets_val), 1)\n",
        "            \n",
        "# 2. Calculate loss\n",
        "loss = loss_fn(prednew_val, temp1)\n",
        "print(loss.item())\n",
        "print(np.sqrt(loss.item()))"
      ],
      "execution_count": null,
      "outputs": [
        {
          "output_type": "stream",
          "text": [
            "0.67824786901474\n",
            "0.8235580544289152\n"
          ],
          "name": "stdout"
        }
      ]
    },
    {
      "cell_type": "markdown",
      "metadata": {
        "id": "kAPhGwPu1rqH"
      },
      "source": [
        "The mean squared error of the model is **0.6782** and on average the predicted values differ from actual values by **0.8235** as a result the model has performed poorly. \n",
        "\n",
        "The predictions made by the model has negative values. As a result this model cannot be used for prediciton purposes."
      ]
    },
    {
      "cell_type": "markdown",
      "metadata": {
        "id": "_xAuZImc2D2N"
      },
      "source": [
        "In order to improve the above model scaling of the dataset can be done differently that allows the values between 0 and 1. One suggested scaling would be subtracting the minimum from the datapoint and dividing it by the maximum value of the dataset."
      ]
    },
    {
      "cell_type": "markdown",
      "metadata": {
        "id": "mhFewPSvluVS"
      },
      "source": [
        "### Testing test set"
      ]
    },
    {
      "cell_type": "code",
      "metadata": {
        "id": "E357GMTol3B-"
      },
      "source": [
        "inputs_test = torch.from_numpy(x_test)\n",
        "targets_test = torch.from_numpy(y_test)"
      ],
      "execution_count": null,
      "outputs": []
    },
    {
      "cell_type": "code",
      "metadata": {
        "id": "QObuoSonl3B_"
      },
      "source": [
        "pred_test = model(inputs_test)"
      ],
      "execution_count": null,
      "outputs": []
    },
    {
      "cell_type": "code",
      "metadata": {
        "colab": {
          "base_uri": "https://localhost:8080/"
        },
        "id": "1_82A0Kml3B_",
        "outputId": "07f7c9e1-7b76-42f3-eb27-39a89c7436df"
      },
      "source": [
        "pred_test"
      ],
      "execution_count": null,
      "outputs": [
        {
          "output_type": "execute_result",
          "data": {
            "text/plain": [
              "tensor([[0.0236],\n",
              "        [0.0236],\n",
              "        [0.0236],\n",
              "        ...,\n",
              "        [0.0236],\n",
              "        [0.0236],\n",
              "        [0.0236]], grad_fn=<AddmmBackward>)"
            ]
          },
          "metadata": {
            "tags": []
          },
          "execution_count": 89
        }
      ]
    },
    {
      "cell_type": "code",
      "metadata": {
        "colab": {
          "base_uri": "https://localhost:8080/"
        },
        "id": "rD2UtPh9l3CB",
        "outputId": "0d64561b-1db5-4f56-9336-3f44f662d3da"
      },
      "source": [
        "targets_test"
      ],
      "execution_count": null,
      "outputs": [
        {
          "output_type": "execute_result",
          "data": {
            "text/plain": [
              "tensor([0.0128, 0.0128, 0.0128,  ..., 0.0128, 0.0128, 0.0128])"
            ]
          },
          "metadata": {
            "tags": []
          },
          "execution_count": 90
        }
      ]
    },
    {
      "cell_type": "code",
      "metadata": {
        "colab": {
          "base_uri": "https://localhost:8080/"
        },
        "id": "i88CCM8ml3CB",
        "outputId": "f9234c0b-51a0-4e9d-dc09-35f264afda4a"
      },
      "source": [
        "temp2 = targets_test.reshape(len(targets_test), 1)\n",
        "            \n",
        "# 2. Calculate loss\n",
        "loss = loss_fn(pred_test, temp2)\n",
        "print(loss.item())\n",
        "print(np.sqrt(loss.item()))\n"
      ],
      "execution_count": null,
      "outputs": [
        {
          "output_type": "stream",
          "text": [
            "0.0005542300059460104\n",
            "0.023542090092980493\n"
          ],
          "name": "stdout"
        }
      ]
    },
    {
      "cell_type": "markdown",
      "metadata": {
        "id": "vul8D3sLmVD_"
      },
      "source": [
        "The mean squared error of the test set is **0.0005542** and on average the precited values and actual values differs by **0.02354**, which as compared to the actual values of precipitaion is not giving desirable results.\n",
        "\n",
        "With more epochs, hidden layer and different scaling techniques the model can be improved."
      ]
    },
    {
      "cell_type": "markdown",
      "metadata": {
        "id": "PIQcUPqyP9mc"
      },
      "source": [
        "## Saving model to checkpoint"
      ]
    },
    {
      "cell_type": "markdown",
      "metadata": {
        "id": "Zhy_Jxe72wpi"
      },
      "source": [
        "Now as we have trained the model so it is important to save the trained model so that it can be used again and trained for better performance"
      ]
    },
    {
      "cell_type": "markdown",
      "metadata": {
        "id": "JHQxHDI6c6_t"
      },
      "source": [
        "The following codes will be save the weights and biases of the trained model so that it can be used later. "
      ]
    },
    {
      "cell_type": "code",
      "metadata": {
        "colab": {
          "base_uri": "https://localhost:8080/"
        },
        "id": "y_gNODwAOtUt",
        "outputId": "c87089a7-048e-4bdb-d6d3-7d75ecd4690c"
      },
      "source": [
        "print(\"Our model: \\n\\n\", model, '\\n')\n",
        "print(\"The state dict keys: \\n\\n\", model.state_dict().keys())"
      ],
      "execution_count": null,
      "outputs": [
        {
          "output_type": "stream",
          "text": [
            "Our model: \n",
            "\n",
            " Linear(in_features=2, out_features=1, bias=True) \n",
            "\n",
            "The state dict keys: \n",
            "\n",
            " odict_keys(['weight', 'bias'])\n"
          ],
          "name": "stdout"
        }
      ]
    },
    {
      "cell_type": "code",
      "metadata": {
        "id": "fl9ak73yPz6w"
      },
      "source": [
        "from google.colab import files"
      ],
      "execution_count": null,
      "outputs": []
    },
    {
      "cell_type": "code",
      "metadata": {
        "colab": {
          "base_uri": "https://localhost:8080/",
          "height": 17
        },
        "id": "WtVidrSfOwfj",
        "outputId": "33270295-c7f2-4a8c-b83c-04a7999179a0"
      },
      "source": [
        "torch.save(model.state_dict(), 'checkpoint.pth')\n",
        "\n",
        "# download checkpoint file\n",
        "files.download('checkpoint.pth')"
      ],
      "execution_count": null,
      "outputs": [
        {
          "output_type": "display_data",
          "data": {
            "application/javascript": [
              "\n",
              "    async function download(id, filename, size) {\n",
              "      if (!google.colab.kernel.accessAllowed) {\n",
              "        return;\n",
              "      }\n",
              "      const div = document.createElement('div');\n",
              "      const label = document.createElement('label');\n",
              "      label.textContent = `Downloading \"${filename}\": `;\n",
              "      div.appendChild(label);\n",
              "      const progress = document.createElement('progress');\n",
              "      progress.max = size;\n",
              "      div.appendChild(progress);\n",
              "      document.body.appendChild(div);\n",
              "\n",
              "      const buffers = [];\n",
              "      let downloaded = 0;\n",
              "\n",
              "      const channel = await google.colab.kernel.comms.open(id);\n",
              "      // Send a message to notify the kernel that we're ready.\n",
              "      channel.send({})\n",
              "\n",
              "      for await (const message of channel.messages) {\n",
              "        // Send a message to notify the kernel that we're ready.\n",
              "        channel.send({})\n",
              "        if (message.buffers) {\n",
              "          for (const buffer of message.buffers) {\n",
              "            buffers.push(buffer);\n",
              "            downloaded += buffer.byteLength;\n",
              "            progress.value = downloaded;\n",
              "          }\n",
              "        }\n",
              "      }\n",
              "      const blob = new Blob(buffers, {type: 'application/binary'});\n",
              "      const a = document.createElement('a');\n",
              "      a.href = window.URL.createObjectURL(blob);\n",
              "      a.download = filename;\n",
              "      div.appendChild(a);\n",
              "      a.click();\n",
              "      div.remove();\n",
              "    }\n",
              "  "
            ],
            "text/plain": [
              "<IPython.core.display.Javascript object>"
            ]
          },
          "metadata": {
            "tags": []
          }
        },
        {
          "output_type": "display_data",
          "data": {
            "application/javascript": [
              "download(\"download_6d9edcd1-0f91-415c-8db5-80f6a946c98c\", \"checkpoint.pth\", 1077)"
            ],
            "text/plain": [
              "<IPython.core.display.Javascript object>"
            ]
          },
          "metadata": {
            "tags": []
          }
        }
      ]
    },
    {
      "cell_type": "markdown",
      "metadata": {
        "id": "EFC8nmxm29-r"
      },
      "source": [
        "Now the model is saved with a file name **checkpoint.pth**"
      ]
    },
    {
      "cell_type": "markdown",
      "metadata": {
        "id": "pC0rz7F_QKQb"
      },
      "source": [
        "## Loading model"
      ]
    },
    {
      "cell_type": "code",
      "metadata": {
        "colab": {
          "base_uri": "https://localhost:8080/"
        },
        "id": "P7PagquZQDRU",
        "outputId": "0ac0ab21-4260-47cc-f2fc-2c8216675a41"
      },
      "source": [
        "state_dict = torch.load('checkpoint.pth')\n",
        "print(state_dict.keys())"
      ],
      "execution_count": null,
      "outputs": [
        {
          "output_type": "stream",
          "text": [
            "odict_keys(['weight', 'bias'])\n"
          ],
          "name": "stdout"
        }
      ]
    },
    {
      "cell_type": "code",
      "metadata": {
        "id": "DaD5_JsWQzdV"
      },
      "source": [
        "model1 = nn.Linear(2, 1)"
      ],
      "execution_count": null,
      "outputs": []
    },
    {
      "cell_type": "code",
      "metadata": {
        "colab": {
          "base_uri": "https://localhost:8080/"
        },
        "id": "YLFQWuXxQQwb",
        "outputId": "6a5683c0-e5d9-4508-d4b0-54919ae7588f"
      },
      "source": [
        "model1.load_state_dict(state_dict)"
      ],
      "execution_count": null,
      "outputs": [
        {
          "output_type": "execute_result",
          "data": {
            "text/plain": [
              "<All keys matched successfully>"
            ]
          },
          "metadata": {
            "tags": []
          },
          "execution_count": 69
        }
      ]
    },
    {
      "cell_type": "code",
      "metadata": {
        "colab": {
          "base_uri": "https://localhost:8080/"
        },
        "id": "vPddvWsGQ2T-",
        "outputId": "c1862f7e-c21e-4127-e2fd-aa6aaf2f30eb"
      },
      "source": [
        "model1.parameters()"
      ],
      "execution_count": null,
      "outputs": [
        {
          "output_type": "execute_result",
          "data": {
            "text/plain": [
              "<generator object Module.parameters at 0x7fb2f9b91f68>"
            ]
          },
          "metadata": {
            "tags": []
          },
          "execution_count": 70
        }
      ]
    },
    {
      "cell_type": "markdown",
      "metadata": {
        "id": "TX5WnXcq3Md3"
      },
      "source": [
        "Model is successfully loaded and can be used again to make predicitons."
      ]
    },
    {
      "cell_type": "code",
      "metadata": {
        "colab": {
          "base_uri": "https://localhost:8080/"
        },
        "id": "VsMpoDV0RNSw",
        "outputId": "6b541ab4-e4bb-4086-f581-af5863270ec5"
      },
      "source": [
        "preds1 = model1(inputs)\n",
        "preds1"
      ],
      "execution_count": null,
      "outputs": [
        {
          "output_type": "execute_result",
          "data": {
            "text/plain": [
              "tensor([[0.0236],\n",
              "        [0.0188],\n",
              "        [0.0236],\n",
              "        ...,\n",
              "        [0.0236],\n",
              "        [0.0236],\n",
              "        [0.0236]], grad_fn=<AddmmBackward>)"
            ]
          },
          "metadata": {
            "tags": []
          },
          "execution_count": 71
        }
      ]
    },
    {
      "cell_type": "code",
      "metadata": {
        "id": "uFxN6OMFRUIL"
      },
      "source": [
        "temp = targets.reshape(len(targets), 1)"
      ],
      "execution_count": null,
      "outputs": []
    },
    {
      "cell_type": "code",
      "metadata": {
        "colab": {
          "base_uri": "https://localhost:8080/"
        },
        "id": "KQhhfB-ZRVK-",
        "outputId": "53b8ee59-ac15-4986-df5b-d92a9044c897"
      },
      "source": [
        "# 2. Calculate loss\n",
        "loss = loss_fn(preds1, temp)\n",
        "print(loss.item())\n"
      ],
      "execution_count": null,
      "outputs": [
        {
          "output_type": "stream",
          "text": [
            "0.000552099256310612\n"
          ],
          "name": "stdout"
        }
      ]
    },
    {
      "cell_type": "markdown",
      "metadata": {
        "id": "xjVW0JWWMDUY"
      },
      "source": [
        "# Concluding Remarks"
      ]
    },
    {
      "cell_type": "markdown",
      "metadata": {
        "id": "pUDHfwd7Dxod"
      },
      "source": [
        "Here I will list some of the problems that I have faced. After interpolating the data when it was used for the data preprocessing part of the deep learning, it was exhausting all the ram and the kernel was restarting again. So I have used the data without interpolation for training the deep learning model.\n",
        "Also the ram was getting exhausted when I was filling the missing values with the help of MICE, so I have filled the missing values with mean of the data."
      ]
    }
  ]
}